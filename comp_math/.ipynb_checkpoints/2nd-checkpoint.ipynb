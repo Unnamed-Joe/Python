{
 "cells": [
  {
   "cell_type": "markdown",
   "id": "900ac7b2",
   "metadata": {},
   "source": [
    "# Second homework for computational mathematics course (06.09.2022)"
   ]
  },
  {
   "cell_type": "code",
   "execution_count": 2,
   "id": "34263860",
   "metadata": {},
   "outputs": [],
   "source": [
    "import numpy as np\n",
    "import pylab as plt\n",
    "import seaborn as sns"
   ]
  },
  {
   "cell_type": "markdown",
   "id": "8ed131dc",
   "metadata": {},
   "source": [
    "## Exercise 1"
   ]
  },
  {
   "cell_type": "code",
   "execution_count": 7,
   "id": "a6621afd",
   "metadata": {},
   "outputs": [
    {
     "name": "stdout",
     "output_type": "stream",
     "text": [
      "y is equal to  0.4864916713972566\n",
      "Loss value is  0.08488455599198733\n"
     ]
    }
   ],
   "source": [
    "N = 1000\n",
    "sample = np.random.rand(N)\n",
    "y = np.mean(sample)\n",
    "print(\"y is equal to \", y)\n",
    "print(\"Loss value is \", np.sum(sample**2 - 2*y*sample)/N + y**2)"
   ]
  },
  {
   "cell_type": "markdown",
   "id": "58364ee5",
   "metadata": {},
   "source": [
    "## Exercise 2"
   ]
  },
  {
   "cell_type": "code",
   "execution_count": 3,
   "id": "98e471b6",
   "metadata": {},
   "outputs": [
    {
     "name": "stdout",
     "output_type": "stream",
     "text": [
      "The variance of x from sample I is 3.1622776601683795 \n",
      "\n",
      "The variance of y from sample I is 1.9370242151086692 \n",
      "\n",
      "Pearson correlation coefficient from sample I is \n",
      "           x         y\n",
      "x  1.000000  0.816421\n",
      "y  0.816421  1.000000 \n",
      "\n"
     ]
    },
    {
     "data": {
      "image/png": "[encoded data removed]",
      "text/plain": [
       "<Figure size 432x288 with 1 Axes>"
      ]
     },
     "metadata": {
      "needs_background": "light"
     },
     "output_type": "display_data"
    },
    {
     "name": "stdout",
     "output_type": "stream",
     "text": [
      "The variance of x from sample II is 3.1622776601683795 \n",
      "\n",
      "The variance of y from sample II is 1.9371086914896203 \n",
      "\n",
      "Pearson correlation coefficient from sample II is \n",
      "           x         y\n",
      "x  1.000000  0.816237\n",
      "y  0.816237  1.000000 \n",
      "\n"
     ]
    },
    {
     "data": {
      "image/png": "[encoded data removed]",
      "text/plain": [
       "<Figure size 432x288 with 1 Axes>"
      ]
     },
     "metadata": {
      "needs_background": "light"
     },
     "output_type": "display_data"
    },
    {
     "name": "stdout",
     "output_type": "stream",
     "text": [
      "The variance of x from sample III is 3.1622776601683795 \n",
      "\n",
      "The variance of y from sample III is 1.9359329439927313 \n",
      "\n",
      "Pearson correlation coefficient from sample III is \n",
      "           x         y\n",
      "x  1.000000  0.816287\n",
      "y  0.816287  1.000000 \n",
      "\n"
     ]
    },
    {
     "data": {
      "image/png": "[encoded data removed]",
      "text/plain": [
       "<Figure size 432x288 with 1 Axes>"
      ]
     },
     "metadata": {
      "needs_background": "light"
     },
     "output_type": "display_data"
    },
    {
     "name": "stdout",
     "output_type": "stream",
     "text": [
      "The variance of x from sample IV is 3.1622776601683795 \n",
      "\n",
      "The variance of y from sample IV is 1.9360806451340837 \n",
      "\n",
      "Pearson correlation coefficient from sample IV is \n",
      "           x         y\n",
      "x  1.000000  0.816521\n",
      "y  0.816521  1.000000 \n",
      "\n"
     ]
    },
    {
     "data": {
      "image/png": "[encoded data removed]",
      "text/plain": [
       "<Figure size 432x288 with 1 Axes>"
      ]
     },
     "metadata": {
      "needs_background": "light"
     },
     "output_type": "display_data"
    }
   ],
   "source": [
    "sample = sns.load_dataset('anscombe')\n",
    "types = np.unique(sample['dataset'])\n",
    "for type_ in types:\n",
    "    x = sample[sample['dataset'] == type_].sort_values(by=['x'])['x']\n",
    "    y = sample[sample['dataset'] == type_].sort_values(by=['x'])['y']\n",
    "    print(\"The variance of x from sample \" + type_ + \" is\", np.std(x), '\\n')\n",
    "    print(\"The variance of y from sample \" + type_ + \" is\", np.std(y), '\\n')\n",
    "    print(\"Pearson correlation coefficient from sample \" + type_ + \" is \\n\", sample[sample['dataset'] == type_].corr(method='pearson'), '\\n')\n",
    "    plt.scatter(x, y)\n",
    "    plt.title(\"Graph from sample \" + type_)\n",
    "    plt.xlabel('x')\n",
    "    plt.ylabel('y')\n",
    "    plt.show()\n",
    "    \n"
   ]
  },
  {
   "cell_type": "markdown",
   "id": "e80feb16",
   "metadata": {},
   "source": [
    "## Exercise 3"
   ]
  },
  {
   "cell_type": "markdown",
   "id": "c2943f1c",
   "metadata": {},
   "source": [
    "$<x,x> \\rightarrow \\min$, s.t. Ax = b \n",
    "\n",
    "$x_0 = (A^TA)^{-1}A^Tb$\n",
    "\n",
    "$\\Phi$ - basis in Ker(A), then\n",
    "\n",
    "$< x_0 + \\Phi y, x_0 + \\Phi y> = L \\rightarrow \\min$\n",
    "\n",
    "$\\nabla L = 0 = <x_0, x_0> + y^T\\Phi^Tx_0 + x_0^T\\Phi y + y^T\\Phi^T\\Phi y$\n",
    "\n",
    "$2x_0^T\\Phi + 2y^T\\Phi^T\\Phi = 0$\n",
    "\n",
    "$\\Phi^T\\Phi y + \\Phi^T x_0 = 0$\n",
    "\n",
    "$y = - (\\Phi^T\\Phi)^{-1}\\Phi^Tx_0$\n",
    "\n",
    "$x = (1 - \\Phi(\\Phi^T\\Phi)^{-1}\\Phi^T)(A^TA)^{-1}A^Tb$"
   ]
  },
  {
   "cell_type": "markdown",
   "id": "b1330251",
   "metadata": {},
   "source": [
    "## Exercise 4"
   ]
  },
  {
   "cell_type": "markdown",
   "id": "f0e9e160",
   "metadata": {},
   "source": [
    "# DONE"
   ]
  },
  {
   "cell_type": "code",
   "execution_count": 13,
   "id": "4384b084",
   "metadata": {},
   "outputs": [],
   "source": [
    "from sklearn.linear_model import LinearRegression\n",
    "from sklearn.model_selection import train_test_split"
   ]
  },
  {
   "cell_type": "code",
   "execution_count": 18,
   "id": "5f89f533",
   "metadata": {},
   "outputs": [
    {
     "name": "stdout",
     "output_type": "stream",
     "text": [
      "0.15679049797038314\n",
      "0.15679049797038314\n",
      "0.15679049797038314\n",
      "0.15679049797038314\n",
      "0.15679049797038314\n",
      "0.15679049797038314\n",
      "0.15679049797038314\n",
      "0.15679049797038314\n",
      "0.15679049797038314\n"
     ]
    }
   ],
   "source": [
    "size=200\n",
    "X = np.linspace(1,5,size).reshape(-1,1)\n",
    "\n",
    "Y = (np.cos(x)*np.sin(x) + 0.25*np.sqrt(x) + 0.1 + np.random.normal(0, 0.01, size)).reshape(-1,1)\n",
    "\n",
    "X_train, X_test, y_train, y_test = train_test_split(X, Y, test_size=0.2, random_state=42)\n",
    "lr = LinearRegression()\n",
    "lr.fit(X_train, y_train)\n",
    "y_pred = lr.predict(X_test)\n",
    "print(np.sqrt(1/size*np.sum((y_test-y_pred)**2)))\n",
    "\n",
    "for i in range(2, 10):\n",
    "    X = np.concatenate((X, X**i), axis=1)\n",
    "    X_train, X_test, y_train, y_test = train_test_split(X, Y, test_size=0.2, random_state=42)\n",
    "    lr.fit(X_train, y_train)\n",
    "    y_pred = lr.predict(X_test)\n",
    "    print(np.sqrt(1/size*np.sum((y_test-y_pred)**2)))"
   ]
  },
  {
   "cell_type": "code",
   "execution_count": null,
   "id": "8b4e3cf3",
   "metadata": {},
   "outputs": [],
   "source": []
  }
 ],
 "metadata": {
  "kernelspec": {
   "display_name": "Python 3 (ipykernel)",
   "language": "python",
   "name": "python3"
  },
  "language_info": {
   "codemirror_mode": {
    "name": "ipython",
    "version": 3
   },
   "file_extension": ".py",
   "mimetype": "text/x-python",
   "name": "python",
   "nbconvert_exporter": "python",
   "pygments_lexer": "ipython3",
   "version": "3.8.10"
  }
 },
 "nbformat": 4,
 "nbformat_minor": 5
}
