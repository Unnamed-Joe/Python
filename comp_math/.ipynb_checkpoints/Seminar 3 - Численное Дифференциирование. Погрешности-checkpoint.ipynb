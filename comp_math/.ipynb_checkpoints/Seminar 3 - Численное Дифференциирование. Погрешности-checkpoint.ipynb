{
 "cells": [
  {
   "cell_type": "markdown",
   "id": "db4ae32d",
   "metadata": {},
   "source": [
    "# Численное дифференциирование и погрешности\n",
    "\n",
    "## План\n",
    "\n",
    "1. Численное дифференциирование\n",
    "2. Погрешность метода\n",
    "3. Погрешность машинного округления\n",
    "4. Погрешность данных. Шум.\n",
    "5. Задачи\n",
    "\n",
    "## 1. Численное дифференциирование\n",
    "\n",
    "### _Постановка задачи для 1-ой производной_\n",
    "\n",
    "Пусть таблично задана некоторая функция $u(x)$:\n",
    "\n",
    "$$\n",
    "\\begin{array}{|l|l|l|l|l|l|l|l|}\n",
    "\\hline u(x) & u\\left(x_0\\right) & u_1 & u_2 & \\cdots & u_j & \\cdots & u_J \\\\\n",
    "\\hline x & x_0 & x_1 & x_2 & \\cdots & x_j & \\cdots & x_J \\\\\n",
    "\\hline\n",
    "\\end{array}\n",
    "$$\n",
    "\n",
    "Как раз в такой форме задана любая функция в компьютере (массив \"иксов\" и массив \"игреков\"). Отметим, что разбиение по \"иксам\" может быть как равномерным, так и неравномерным - всё зависит от конкретной табдично заданной функции.\n",
    "\n",
    "Хотим вычислить её производную в каждой точке $x_j$. Вспомним определение из матанализа:\n",
    "\n",
    "$$u'\\left(x_j\\right)=\\lim _{\\Delta x \\rightarrow 0} \\frac{u\\left(x_j+\\Delta x\\right)-u\\left(x_j\\right)}{\\Delta x}$$\n",
    "\n",
    "Но ведь на компьютере $\\Delta x$ не может стремится к нулю, т.к. функция по сути дискретная, - придётся считать приближённо, с помощью аппроксимации производной путём использования __конечно-разностных схем__. Некоторые примеры:\n",
    "\n",
    "a) $u_j^{(1)}=\\frac{u_j-u_{j-1}}{x_j-x_{j-1}}=\\frac{u_j-u_{j-1}}{h}$\n",
    "\n",
    "b) $u_j^{(1)}=\\frac{u_{j+1}-u_j}{x_{j+1}-x_j}=\\frac{u_{j+1}-u_j}{h}$\n",
    "\n",
    "c) $u_j^{(1)}=\\frac{u_{j+1} - u_{j-1}}{x_{j+1}-x_{j-1}}=\\frac{u_{j+1}-u_{j-1}}{2 h}$\n",
    "\n",
    "Подчеркнём разницу между обозначениями $u'$ и $u^{(1)}$. $u'$ - это истинная (математическая) производная, а $u^{(1)}$ - это лишь аппроксимация (наше приблежение).\n",
    "\n",
    "### _Порядок аппроксимации_\n",
    "\n",
    "Чем же отличаются данные схемы? Оказывается, точностью. Но сначала вспомним про ряд Тейлора с остаточным членом в форме Лагранжа и Пеано:\n",
    "\n",
    "$$\n",
    "\\begin{aligned}\n",
    "&u\\left(x_j+\\Delta x\\right)=u\\left(x_j\\right)+u^{\\prime}\\left(x_j\\right) \\cdot \\Delta x+u^{\\prime \\prime}\\left(x_j\\right) \\frac{\\Delta x^2}{2 !} \n",
    "+u^{\\prime \\prime \\prime}\\left(x_j\\right) \\frac{\\Delta x^3}{3 !}+\\cdots+u^{(n)}\\left(x_i\\right) \\frac{\\Delta x^n}{n !}+\\frac{u^{(n+1)}(\\xi)}{(n+1) !} \\Delta x^{n+1}=\\sum_{k=0}^n \\frac{u^{(k)}\\left(x_j\\right)}{k !} \\Delta x^k+O\\left(\\Delta x^{n+1}\\right)\n",
    "\\end{aligned}\n",
    "$$\n",
    "\n",
    "Подставляя это разложение в наши примеры, посмотрим на их \"точность\":\n",
    "\n",
    "---\n",
    "\n",
    "a) $u_j^{(1)}=\\frac{u_j-u_{j-1}}{x_j-x_{j-1}}=\\frac{u_j-u_{j-1}}{h}$\n",
    "\n",
    "$\n",
    "u_{j-1}=u\\left(x_{j-1}\\right)=u(x_j - h)=u_j-h u_j^{\\prime}+\\frac{h^2}{2} u_j^{\\prime \\prime}-\\frac{h^3}{6} u_j^{\\prime \\prime \\prime}+O\\left(h^4\\right)\n",
    "$\n",
    "\n",
    "$u_j^{(1)}=\\frac{u_j-u_{j-1}}{h}=\\frac{u_j-(u_j-h u_j^{\\prime}+\\frac{h^2}{2} u_j^{\\prime \\prime}-\\frac{h^3}{6} u_j^{\\prime \\prime \\prime}+O\\left(h^4\\right))}{h} = u_j^{\\prime}-\\frac{h u_j^{\\prime \\prime}}{2}+\\frac{h^2}{6} u_j^{\\prime \\prime \\prime} +o(h^3) \\approx u_j^{\\prime}+O(h)$\n",
    "\n",
    "Видим, что при $h \\rightarrow 0$ наша аппроксимация стремится к истинной производной. В данном случае эта разностная схема имеет __1-ый порядок аппроксимации__, т.к. ошибка пропорциональна первой степени $h$.\n",
    "\n",
    "---\n",
    "\n",
    "b) $u_j^{(1)}=\\frac{u_{j+1}-u_j}{x_{j+1}-x_j}=\\frac{u_{j+1}-u_j}{h}$\n",
    "\n",
    "$\n",
    "u_{j+1}=u\\left(x_{j+1}\\right)=u(x_j + h)=u_j+h u_j^{\\prime}+\\frac{h^2}{2} u_j^{\\prime \\prime}+\\frac{h^3}{6} u_j^{\\prime \\prime \\prime}+O\\left(h^4\\right)\n",
    "$\n",
    "\n",
    "$u_j^{(1)}=\\frac{u_{j+1}-u_j}{h}=\\frac{(u_j+h u_j^{\\prime}+\\frac{h^2}{2} u_j^{\\prime \\prime}+\\frac{h^3}{6} u_j^{\\prime \\prime \\prime}+O\\left(h^4\\right)) - u_j}{h} = u_j^{\\prime}+\\frac{h u_j^{\\prime \\prime}}{2}+\\frac{h^2}{6} u_j^{\\prime \\prime \\prime} +O(h^3) \\approx u_j^{\\prime}+O(h)$\n",
    "\n",
    "Опять получился 1-ый порядок аппроксимации. \n",
    "\n",
    "---\n",
    "\n",
    "c) $u_j^{(1)}=\\frac{u_{j+1} - u_{j-1}}{x_{j+1}-x_{j-1}}=\\frac{u_{j+1}-u_{j-1}}{2 h}$\n",
    "\n",
    "$\n",
    "u_{j+1}=u\\left(x_{j+1}\\right)=u(x_j + h)=u_j+h u_j^{\\prime}+\\frac{h^2}{2} u_j^{\\prime \\prime}+\\frac{h^3}{6} u_j^{\\prime \\prime \\prime}+O\\left(h^4\\right)\n",
    "$\n",
    "\n",
    "$\n",
    "u_{j-1}=u\\left(x_{j-1}\\right)=u(x_j - h)=u_j-h u_j^{\\prime}+\\frac{h^2}{2} u_j^{\\prime \\prime}-\\frac{h^3}{6} u_j^{\\prime \\prime \\prime}+O\\left(h^4\\right)\n",
    "$\n",
    "\n",
    "$u_j^{(1)}=\\frac{u_{j+1}-u_{j-1}}{2h}=u_j^{\\prime}+\\frac{h^2}{6} u_j^{\\prime \\prime \\prime}+o(h^2)=u_j^{\\prime}+O(h^2)$\n",
    "\n",
    "Получился __2-ой порядок аппроксимации__ - то есть эта разностная аппроксимация на порядок точнее двух предыдущих. К примеру, без учёта констант перед $h$, если в a) и b) ошибка была бы $10^{-3}$, то в с) на том же наборе данных мы бы имели ошибку $10^{-6}$.\n",
    "\n",
    "---\n",
    "\n",
    "Итого мы поняли, что задачу приближённого нахождения производной (аппроксимации производной) можно решать с помощью конечно-разностных схем. Разные схемы могут иметь разную точность. Обобщим задачу на случай производной произвольной степени.\n",
    "\n",
    "### _Постановка задачи для k-ой производной_\n",
    "\n",
    "Пусть таблично задана некоторая функция $u(x)$:\n",
    "\n",
    "$$\n",
    "\\begin{array}{|l|l|l|l|l|l|l|l|}\n",
    "\\hline u(x) & u\\left(x_0\\right) & u_1 & u_2 & \\cdots & u_* & \\cdots & u_J \\\\\n",
    "\\hline x & x_0 & x_1 & x_2 & \\cdots & x_* & \\cdots & x_J \\\\\n",
    "\\hline\n",
    "\\end{array}\n",
    "$$\n",
    "\n",
    "Хотим приближенно найти производную $k$-го порядка в точке $x_*$. Будем искать решение в виде конечно-разностной схемы:\n",
    "\n",
    "\n",
    "$$u^{(k)}\\left(x_*\\right)=u_*^{(k)}=\\frac{\\overset{m}{\\underset{j \\,=-l}{\\sum}} \\alpha_j \\cdot u\\left(x_*+\\Delta x_j\\right)}{h^k}$$\n",
    "\n",
    "Здесь $\\alpha_j$ - некоторые числовые коэффициенты, которые определяют вид конечно-разностной схемы. Как же их найти?\n",
    "\n",
    "__Алгоритм составления разностной схемы__\n",
    "\n",
    "1. Фиксировать $l$ и $m$ исходя из п.3 ниже.\n",
    "2. Разложить $u\\left(x_*+\\Delta x_j\\right)$ в ряд Тейлора в точке $x_*$. Привести множители перед производными.\n",
    "3. Составить систему линейных уравнений на $\\alpha_j$ исходя из \n",
    "- зануления скобок перед производными порядка меньше k \n",
    "- равенства скобки единице перед искомой k-ой производной\n",
    "- занулению скобок перед некоторым количеством производных порядка выше k для увеличения точности.\n",
    "4. Решить эту систему аналитически $\\rightarrow$ найти $\\alpha_j$ $\\rightarrow$ схема задана.\n",
    "\n",
    "Если же в нашей функции нет фиксированного шага по \"искам\" $h$, то меняется лишь изначальная формула, откуда $h$ пропадает из знаменателя, и остаётся только числитель. В остальном алгоритм такой-же. Более подробно см. лекцию С1 https://vk.com/video/@club101906738?z=video-101906738_456239046%2Fclub101906738%2Fpl_-101906738_-2.\n",
    "\n",
    "Вообще, все эти задачи для различных $k, l, m$ давно решены за нас. Достаточно загуглить \"конечно-разностные схемы\".\n",
    "\n",
    "### _k-ая производная функция нескольких переменных_\n",
    "\n",
    "В целом \"дух\", алгоритм и понятие порядка аппроксимации абсолютно такие же как и в предыдущих пунктах, только теперь необходимо рассматривать различные шаги $h_1, h_2, ...$ по разным осям. Также в рядах Тейлора появятся перекрестные слагаемые. За более подробным описанием см. лекцию С1 https://vk.com/video/@club101906738?z=video-101906738_456239046%2Fclub101906738%2Fpl_-101906738_-2"
   ]
  },
  {
   "cell_type": "markdown",
   "id": "1e24cd5b",
   "metadata": {},
   "source": [
    "## 2. Погрешность метода \n",
    "\n",
    "На основе презентации Ивана Цыбулина, Ярослава Холодова.\n",
    "\n",
    "Многие методы вычислительной математики являются приближенными, то есть позволяют получить ответ с заданной точностью. Крайне важно уметь определять погрешность, обусловленную использованием приближенного метода. Такая погрешность называется **ошибкой метода**. По сути это есть разница между истинным (математическим) значением и тем, который мы получаем при вычислении. \n",
    "\n",
    "Оценим погрешность метода для некоторых конечно-разностных схем.\n",
    "\n",
    "---\n",
    "\n",
    "- Конечно-разностная схема первого порядка\n",
    "\n",
    "$$f_j^{(1)}=\\frac{f_{j+1}-f_j}{x_{j+1}-x_j}=\\frac{f_{j+1}-f_j}{h}$$\n",
    "\n",
    "Обозначим $x_j = x_0$. Тогда погрешность метода будет равна\n",
    "\n",
    "$$\n",
    "\\varepsilon_{\\text{method}}=\\left|f'(x_0) - \\frac{f(x_0 + h) - f(x_0)}{h}\\right|\n",
    "$$\n",
    "\n",
    "Воспользуемся формулой Тейлора с остаточным членом в форме Лагранжа:\n",
    "\n",
    "$$\n",
    "f(x_0 + h) = f(x_0) + f'(x_0) h + \\frac{f''(\\xi)}{2} h^2, \\;\\; \\xi \\in [x_0, x_0 + h]\\\\\n",
    "\\left|f'(x_0) - \\frac{f(x_0 + h) - f(x_0)}{h}\\right| = \\frac{|f''(\\xi)|h}{2}\n",
    "$$\n",
    "\n",
    "Пусть известно, что $|f''(\\xi)| \\leq M_2$ - верхняя оценка второй производной. Тогда ошибку (погрешность) метода можно оценить как\n",
    "\n",
    "$$\n",
    "\\varepsilon_\\text{method}=\\left|f'(x_0) - \\frac{f(x_0 + h) - f(x_0)}{h}\\right| \\leqslant  \\frac{M_2 h}{2}\n",
    "$$\n",
    "\n",
    "Итого, максимальная погрешности метода\n",
    "\n",
    "$$\\varepsilon_\\text{method} = \\frac{M_2 h}{2}$$\n",
    "\n",
    "Отсюда также видно, что данная конечно-разностная схема имеет 1-ый порядок аппроксимации.\n",
    "\n",
    "---\n",
    "\n",
    "- Конечно-разностная схема второго порядка\n",
    "\n",
    "$$\n",
    "f^{(1)}(x) = \\frac{f(x + h) - f(x - h)}{2h}.\n",
    "$$\n",
    "\n",
    "Пользуясь такими же разложениями\n",
    "\n",
    "$$\n",
    "f(x_0 \\pm h) = f(x_0) \\pm f'(x_0) h + \\frac{f''(x_0)}{2} h^2 \\pm \\frac{f'''(\\xi_{1,2})}{6} h^3,\\\\\n",
    "\\xi_1 \\in [x_0 - h, x_0], \\xi_2 \\in [x_0, x_0 + h],\n",
    "$$\n",
    "\n",
    "заключаем, что\n",
    "\n",
    "$$\n",
    "\\varepsilon_\\text{method}=\\left|f'(x_0) - \\frac{f(x_0 + h) - f(x_0 - h)}{2h}\\right| = \\frac{|f'''(\\xi_2) + f'''(\\xi_1)|h^2}{12},\\\\\n",
    "\\left|f'(x_0) - \\frac{f(x_0 + h) - f(x_0 - h)}{2h}\\right| \\leqslant  \\frac{M_3 h^2}{6}, \\qquad M_3 = \\max |f'''(\\xi)|\n",
    "$$\n",
    "\n",
    "Опять же видим, что данный метод имеет *второй порядок*, так как $\\varepsilon_\\text{method} = O(h^2)$.\n",
    "\n",
    "---\n",
    "\n",
    "- Приближённое вычисление функции\n",
    "\n",
    "Погрешность метода вводится не только для разностных схем, но вообще для любого алгоритма, выполняемого на компьютере. К примеру, расчет функции $f(x)=\\sin x$ в некоторой точке через её ряд Тейлора.\n",
    "\n",
    "Для функции $\\sin x$ ряд Тейлора в окрестности точки $x=0$ выглядит следующим образом\n",
    "$$\n",
    "\\sin x=x-\\frac{x^3}{6}+\\frac{x^5}{120}+\\cdots=\\sum_{k=0}^{\\infty}(-1)^k \\frac{x^{2 k+1}}{(2 k+1) !}\n",
    "$$\n",
    "\n",
    "Радиус сходимости у такого ряда бесконечный, так что можем им пользоваться для нахождения значения функции в любой точке. Но как суммировать бесконечный ряд на компьютере?\n",
    "\n",
    "Естественно, никак нельзя. Придётся ограничиться несколькими членами этого ряда, а остаток и будет погрешностью метода в данном случае.\n",
    "\n",
    "$$\\sin x=\\underbrace{\\sum_{k=0}^n(-1)^k \\frac{x^{2 k+1}}{(2 k+1) !}}_{S_n}+\\frac{x^{2 n+2}}{(2 n+2) !} \\sin ^{(2 n+2)} \\xi, \\quad \\xi \\in[0, x]$$\n",
    "\n",
    "Как раз $S_n$ мы и вычисляем в нашей программе. Погрешность от истинного же значения будет\n",
    "\n",
    "$$\\varepsilon_{\\text {method }} \\equiv\\left|\\frac{x^{2 n+2}}{(2 n+2) !} \\sin ^{(2 n+2)} \\xi\\right| \\leqslant \\frac{x^{2 n+2}}{(2 n+2) !} M_{2 n+2}$$\n",
    "\n",
    "Так как все производные функции $\\sin x$ ограничены по модулю единицей, $M_{2 n+2}=1$ и\n",
    "\n",
    "$$\n",
    "\\varepsilon_{\\text {method}}=\\frac{x^{2 n+2}}{(2 n+2) !}\n",
    "$$\n",
    "\n",
    "При стремлении $n \\rightarrow \\infty$ ошибка метода начиная с $n=n_0>x / 2$ монотонно стремится к нулю благодаря факторилу в знаменателе."
   ]
  },
  {
   "cell_type": "markdown",
   "id": "5906afde",
   "metadata": {},
   "source": [
    "## 3. Погрешность машинного округления\n",
    "\n",
    "### Представление чисел в памяти компьютера\n",
    "\n",
    "Действительные числа в машинном представлении приходится округлять до $K$ цифр после запятой. При этом число $x$, имеющее машинное представление $X$, находится где-то в диапазоне\n",
    "$$\n",
    "x \\in \\left[X - \\Delta X, X + \\Delta X\\right]\n",
    "$$\n",
    "\n",
    "Величина $\\Delta X$ назвается **абсолютной погрешностью** представления $x$.\n",
    "\n",
    "**Относительная погрешность** представления чисел в арифметике с плавающей точкой зависит от количества используемых цифр $K$, но не от самого числа $x$:\n",
    "\n",
    "$$\n",
    "\\frac{\\Delta X}{|X|} \\leqslant \\delta = 2^{-(K+1)}\n",
    "$$\n",
    "\n",
    "Стоит отметить, что двойка здесь потому, что числа в компьютере хранятся именно в двоичной системе счисления. \n",
    "\n",
    "Стандартом IEEE 754 определяются несколько форматов представления чисел в компьютере. Самыми распространенными являются\n",
    " * одинарная точность, single precision (`float` в C). Имеет $K = 23$ и обеспечивает относительную точность $\\delta = 2^{-24} \\approx 5.96 \\cdot 10^{-8}$\n",
    " * двойная точность, double precision (`double` в C). Имеет $K = 52$ и обеспечивает относительную точность $\\delta = 2^{-53} \\approx 1.11 \\cdot 10^{-16}$\n",
    " \n",
    "Таким образом, погрешность округления произвольного числа $A$ в компьютере можно определить, зная его тип (float или double), из которого мы получаем $\\delta$. Тогда погрешность округления будет $\\varepsilon_\\text{round} = \\delta \\cdot A$. \n",
    " \n",
    "### Накопление ошибок округления\n",
    "Cуммируя величину $\\displaystyle S_n = \\sum_{k=0}^{n-1} a_n$\n",
    "в машинной арифметике, мы на самом деле суммируем *округленные* величины. Каждое слагаемое $a_n$ представлено с абсолютной погрешностью $\\Delta a_n \\leqslant |a_n| \\cdot \\delta$, где $\\delta$ — относительная ошибка округления. \n",
    "\n",
    "Так как при суммировании чисел их абсолюная погрешность суммируется, при вычислении $S_n$ накопится ошибка\n",
    "$$\n",
    "\\Delta S_n \\leqslant \\varepsilon_\\text{round} = \\sum_{k=0}^{n-1} |a_n| \\cdot \\delta = \\delta \\cdot \\sum_{k=0}^{n-1} |a_n|.\n",
    "$$\n",
    "\n",
    "### Таблица погрешностей операций\n",
    "Погрешности округления для основных операций выглядят следующим образом (Здесь $\\varepsilon_\\text{round}=\\Delta$)\n",
    "\n",
    "$\\Delta(a \\pm \\Delta b)=\\Delta a+\\Delta b$\n",
    "\n",
    "$\\Delta\\left(a^m\\right)=m \\cdot a^{m-1} \\Delta a$\n",
    "\n",
    "$\\Delta(a \\cdot b)=a \\cdot b[\\delta(a)+\\delta(b)]=b \\Delta a+a \\Delta b$\n",
    "\n",
    "$\\Delta(a / b)=\\frac{a}{b}[\\delta(a)+\\delta(b)]=\\frac{b \\Delta a+a \\Delta b}{b^2}$\n",
    "\n",
    "Источник: \"Е.Г. Агапова - Вычислительная математика\"\n",
    "\n",
    "### Пример - погрешность округлений конечно-разностной схемы\n",
    "\n",
    "Вспомним, что функция $f(x)$ вычисляется с погрешностью $\\Delta f$. При вычислении\n",
    "$$f^{(1)}(x_0) \\approx \\frac{f(x_0 + h) - f(x_0)}{h}$$\n",
    "из-за приближенных значений $f(x_0 + h)$, $f(x_0)$ и $h$ появляется ошибка округления\n",
    "\n",
    "\n",
    "$$\n",
    "\\varepsilon_\\text{round} = \\frac{ 2 h \\Delta f + (f(x_0 + h) - f(x_0)) \\Delta h}{h^2} \\approx \\frac{2\\Delta f}{h}\n",
    "$$\n",
    "соответственно. Эта ошибка при уменьшении $h$ *растет* как $O(h^{-1})$. \n",
    "\n",
    "Отсюда понимаем, что не имеет смысла уменьшать $h$ до нуля, т.к. это лишь приведёт к увеличению ошибки округления, которая может \"съесть\" весь выйгрыш от уменьшения ошибки метода. Отсюда следует существование некоторого оптимального шага, при котором суммарная погрешность минимизируется.\n",
    "\n",
    "### Оптимальный шаг дифференцирования\n",
    "\n",
    "При дифференцировании функции имеются два основных источника погрешности\n",
    " * Ошибка метода — уменьшается при уменьшении $h$\n",
    " * Ошибка вычислений — растет при уменьшении $h$\n",
    " \n",
    "Поскольку характер роста ошибок различный, существует некоторое значение $h^*$, при котором ошибка минимальна. Рассмотим __полную ошибку__\n",
    "\n",
    "$$\n",
    "\\varepsilon_\\text{total} = \\varepsilon_\\text{method} + \\varepsilon_\\text{round}\n",
    "$$\n",
    "\n",
    "как функцию от $h$ и найдем минимум.\n",
    "\n",
    "---\n",
    "\n",
    "- Разностная схема первого порядка аппроксимации\n",
    "\n",
    "Продифферецируем полную ошибку\n",
    "\n",
    "$$\n",
    "\\varepsilon_{\\text{total}}(h) = \\frac{M_2h}{2} + \\frac{2\\Delta f}{h}\\\\\n",
    "$$\n",
    "\n",
    "по $h$:\n",
    "\n",
    "$$\n",
    "0 = \\varepsilon_\\text{total}'(h^*) = \\frac{M_2}{2} - \\frac{2\\Delta f}{{h^*}^2}\\\\h^* = 2\\sqrt\\frac{\\Delta f}{M_2}\n",
    "$$\n",
    "\n",
    "Для функции $f(x) = \\sin x$ оценки производных $M_2 = M_3 = 1$. Также примем $\\Delta f = 10^{-16}$ - аля работаем с типом double и $sin x$ можно максимально оценить единицей. Тогда\n",
    "\n",
    "$$\n",
    "h^* = 2 \\cdot 10^{-8}, \\qquad \\varepsilon_{\\text{total}}^* = 2\\cdot 10^{-8}\n",
    "$$\n",
    "\n",
    "---\n",
    "\n",
    "- Разностная схема второго порядка аппроксимации\n",
    "\n",
    "Проделав то же самое для формулы дифференцирования второго порядка, получаем\n",
    "\n",
    "$$\n",
    "\\varepsilon_{\\text{total}}(h) = \\frac{M_3h^2}{6} + \\frac{2\\Delta f}{2h}\\\\\n",
    "$$\n",
    "\n",
    "по $h$:\n",
    "\n",
    "$$\n",
    "0 = \\varepsilon_\\text{total}'(h^*) = \\frac{M_3h^*}{3} - \\frac{\\Delta f}{{h^*}^2}\\\\h^* = \\sqrt[3]\\frac{3\\Delta f}{M_3}\n",
    "$$\n",
    "\n",
    "При тех же значениях $M_2, M_3$ и $\\Delta f$ получаем\n",
    "\n",
    "$$\n",
    "h^* \\approx 6.69 \\cdot 10^{-6}, \\qquad \\varepsilon_{\\text{total}}^* \\approx 2.24\\cdot 10^{-11}\n",
    "$$\n",
    "\n",
    "Т.е. оптимально брать меньший шаг и при этом будем получать меньшую погрешность!"
   ]
  },
  {
   "cell_type": "code",
   "execution_count": 1,
   "id": "2765fbc3",
   "metadata": {
    "scrolled": true
   },
   "outputs": [
    {
     "data": {
      "image/png": "[encoded data removed]",
      "text/plain": [
       "<Figure size 1296x720 with 1 Axes>"
      ]
     },
     "metadata": {
      "needs_background": "light"
     },
     "output_type": "display_data"
    }
   ],
   "source": [
    "import numpy as np\n",
    "import matplotlib.pyplot as plt\n",
    "\n",
    "def diff1(f, x0, h):\n",
    "    return (f(x0 + h) - f(x0)) / h\n",
    "\n",
    "def diff2(f, x0, h):\n",
    "    return (f(x0 + h) - f(x0 - h)) / (2 * h)\n",
    "\n",
    "hs = np.logspace(-16, 0, num=50) # h = 1e-16 ... 1\n",
    "errs1 = []\n",
    "errs2 = []\n",
    "\n",
    "for h in hs:\n",
    "    errs1.append(abs(diff1(np.sin, 1, h) - np.cos(1)))\n",
    "    errs2.append(abs(diff2(np.sin, 1, h) - np.cos(1)))\n",
    "\n",
    "M2 = M3 = 1\n",
    "plt.figure(figsize=(18, 10))\n",
    "plt.loglog(hs, errs1, 'k.', ms=16)\n",
    "plt.loglog(hs, errs2, 'r.', ms=16)\n",
    "plt.loglog(hs, M2 * hs / 2, 'k-', label='First order', lw=3)\n",
    "plt.loglog(hs, M3 * hs**2 / 6, 'r-', label='Second order', lw=3)\n",
    "plt.ylim(1e-14, 1)\n",
    "plt.xlabel('$h$')\n",
    "plt.ylabel('$\\\\varepsilon$')\n",
    "plt.legend(loc='upper center')\n",
    "plt.show()"
   ]
  },
  {
   "cell_type": "markdown",
   "id": "f317ed05",
   "metadata": {},
   "source": [
    "## 4. Погрешность данных. Шум.\n",
    "\n",
    "Как мы знаем, данные, которые нам необходимо обрабатывать, также имеют свои погрешности помимо округления в памяти компьютера. К примеру, пусть у нас есть функция \n",
    "\n",
    "$$\n",
    "f(x) = sin(x)*cos(x) + 0.25*x + \\epsilon\n",
    "$$\n",
    "\n",
    "где $\\epsilon \\sim \\mathcal{N}(0, 0.005)$"
   ]
  },
  {
   "cell_type": "code",
   "execution_count": 2,
   "id": "787cde7c",
   "metadata": {},
   "outputs": [
    {
     "data": {
      "text/plain": [
       "<matplotlib.collections.PathCollection at 0x2a8d9970880>"
      ]
     },
     "execution_count": 2,
     "metadata": {},
     "output_type": "execute_result"
    },
    {
     "data": {
      "image/png": "[encoded data removed]",
      "text/plain": [
       "<Figure size 432x288 with 1 Axes>"
      ]
     },
     "metadata": {
      "needs_background": "light"
     },
     "output_type": "display_data"
    }
   ],
   "source": [
    "x = np.linspace(0, 5, 1000).reshape((-1, 1))\n",
    "noise = np.random.normal(0, 0.005, size=x.shape)\n",
    "y = np.sin(x)*np.cos(x) + 0.25*x + noise\n",
    "\n",
    "plt.scatter(x, y, c = 'b', s= 0.8)\n",
    "#plt.plot(x, y - noise, c = 'r', linewidth= 4)"
   ]
  },
  {
   "cell_type": "markdown",
   "id": "1cd234fd",
   "metadata": {},
   "source": [
    "Пусть хотим посчитать её производную численно в каждой точке. Применим рассказанную выше теорию и воспользуемся разностной схемой второго порядка точности на всех \"внутренних\" точках, и первого порядка на \"крайних\" и сравним с \"истинной производной\"\n",
    "\n",
    "$$\n",
    "f(x) = -sin^2(x) + cos^2(x) + 0.25 \n",
    "$$"
   ]
  },
  {
   "cell_type": "code",
   "execution_count": 3,
   "id": "6c848293",
   "metadata": {},
   "outputs": [
    {
     "data": {
      "text/plain": [
       "0.005005005005005005"
      ]
     },
     "execution_count": 3,
     "metadata": {},
     "output_type": "execute_result"
    }
   ],
   "source": [
    "h = x[1, 0] - x[0, 0]\n",
    "h"
   ]
  },
  {
   "cell_type": "code",
   "execution_count": 4,
   "id": "610b1af9",
   "metadata": {},
   "outputs": [
    {
     "data": {
      "text/plain": [
       "<matplotlib.collections.PathCollection at 0x2a8d9c3a140>"
      ]
     },
     "execution_count": 4,
     "metadata": {},
     "output_type": "execute_result"
    },
    {
     "data": {
      "image/png": "[encoded data removed]",
      "text/plain": [
       "<Figure size 432x288 with 1 Axes>"
      ]
     },
     "metadata": {
      "needs_background": "light"
     },
     "output_type": "display_data"
    }
   ],
   "source": [
    "def diff2(y, h):\n",
    "\n",
    "    y_diff = np.copy(y)\n",
    "\n",
    "    y_diff[1:-1, 0] = (y[2:, 0] - y[:-2, 0])/2/h\n",
    "    y_diff[0, 0] = (y[1, 0] - y[0, 0])/h\n",
    "    y_diff[-1, 0] = (y[-1, 0] - y[-2, 0])/h\n",
    "    \n",
    "    return y_diff\n",
    "\n",
    "y_diff_true = -np.sin(x)**2 + np.cos(x)**2 + 0.25\n",
    "\n",
    "plt.plot(x, y_diff_true, linewidth= 4)\n",
    "plt.scatter(x, diff2(y, h), c = 'b', s= 0.8)\n",
    "#plt.plot(x, y_diff)"
   ]
  },
  {
   "cell_type": "markdown",
   "id": "6e4cc612",
   "metadata": {},
   "source": [
    "Не очень как-то. Результат был бы ещё хуже, если бы мы воспользовались конечной разностью первого порядка везде, а не только на крайних точках."
   ]
  },
  {
   "cell_type": "code",
   "execution_count": 5,
   "id": "9c1a00d0",
   "metadata": {},
   "outputs": [
    {
     "data": {
      "text/plain": [
       "<matplotlib.collections.PathCollection at 0x2a8d9ca8fa0>"
      ]
     },
     "execution_count": 5,
     "metadata": {},
     "output_type": "execute_result"
    },
    {
     "data": {
      "image/png": "[encoded data removed]",
      "text/plain": [
       "<Figure size 432x288 with 1 Axes>"
      ]
     },
     "metadata": {
      "needs_background": "light"
     },
     "output_type": "display_data"
    }
   ],
   "source": [
    "def diff1(y, h):\n",
    "    y_diff = np.copy(y)\n",
    "\n",
    "    y_diff[:-1, 0] = (y[1:, 0] - y[0:-1, 0])/h\n",
    "    y_diff[-1, 0] = (y[-1, 0] - y[-2, 0])/h\n",
    "    \n",
    "    return y_diff\n",
    "\n",
    "plt.plot(x, y_diff_true, linewidth= 4)\n",
    "plt.scatter(x, diff1(y, h), c = 'b', s= 0.8)"
   ]
  },
  {
   "cell_type": "markdown",
   "id": "8db7f64c",
   "metadata": {},
   "source": [
    "Видим, что даже казалось бы ничтожная погрешность изначальных данных приводит к катастрофическому изменению численно определённой производной.\n",
    "\n",
    "Как быть??\n",
    "\n",
    "Ответ - фитить изначальные данные, чтобы избавиться от шума. Например, линейной регрессией, если точек не очень много. В духе прошлого семинара, будем фитить многочленами. "
   ]
  },
  {
   "cell_type": "code",
   "execution_count": 6,
   "id": "43f29701",
   "metadata": {},
   "outputs": [
    {
     "data": {
      "text/plain": [
       "11"
      ]
     },
     "execution_count": 6,
     "metadata": {},
     "output_type": "execute_result"
    }
   ],
   "source": [
    "k = 10\n",
    "\n",
    "# Составляем матрицу объекты-признаки \n",
    "X = x**([i for i in range(k+1)])\n",
    "np.linalg.matrix_rank(X)"
   ]
  },
  {
   "cell_type": "code",
   "execution_count": 7,
   "id": "3f7aea84",
   "metadata": {},
   "outputs": [
    {
     "data": {
      "image/png": "[encoded data removed]",
      "text/plain": [
       "<Figure size 1080x576 with 2 Axes>"
      ]
     },
     "metadata": {
      "needs_background": "light"
     },
     "output_type": "display_data"
    }
   ],
   "source": [
    "# C помощью sklearn решаем задачу линейной регрессии - он это сделает гораздо точнее и быстрее, чем мы с помощью numpy\n",
    "\n",
    "from sklearn import linear_model as lm\n",
    "\n",
    "lin_reg = lm.LinearRegression(fit_intercept=False)\n",
    "lin_reg.fit(X, y) # Подаём на вход матрицу объекты-признаки а не иксы!11!!11!!1! \n",
    "\n",
    "y_predicted = lin_reg.predict(x**([i for i in range(k+1)])) # Не забываем, что для предсказания модели нужны все признаки в \n",
    "                                                            # матрицы объекты-признаки. Написал здесь её явный расчет, чтобы\n",
    "                                                            # было видно, что можем заменить иксы\n",
    "\n",
    "#Смотрим теперь на производную\n",
    "\n",
    "fig, ax = plt.subplots(1, 2, figsize=(15, 8))\n",
    "\n",
    "ax[0].plot(x, y, linewidth= 3, c = 'r', label= \"истина\")\n",
    "ax[0].scatter(x, y_predicted, c = 'b', s= 50, label= \"численно на отфиченных данных\")\n",
    "ax[0].legend()\n",
    "ax[0].title.set_text('Изначальная функция')\n",
    "\n",
    "ax[1].plot(x, y_diff_true, linewidth= 2, c = 'r', label= \"истина\")\n",
    "ax[1].scatter(x, diff2(y_predicted, h), c = 'b', s= 0.8, label= \"численно на отфиченных данных\")\n",
    "ax[1].scatter(x, diff2(y, h), c = 'g', s= 0.8, label= \"численно на сырых данных\")\n",
    "ax[1].legend()\n",
    "ax[1].title.set_text('Производная функции')\n",
    "\n",
    "plt.show()"
   ]
  },
  {
   "cell_type": "markdown",
   "id": "5fd631e9",
   "metadata": {},
   "source": [
    "Отлично! Смогли избавиться от шума и хорошо численно посчитать производную!\n",
    "\n",
    "Возникает вопрос, какой порядок выбрать?\n",
    "\n",
    "Слишком маленький порядок не может хорошо приблизить данные, а слишком большой приближает данные вместе с шумом. В машинном обучении эта проблема называется компромиссом между сдвигом и дисперсией (bias-variance tradeoff). Переход между данной границей хорошо заметен на графике loss в зависимости от степени многочлена. \n",
    "\n",
    "loss считаем на изначальных данных (на выборке test зашумленных данных, как в жизни) и на производной (на всей выборке, относительно значений без шума). Проверим, что наилучший фит изначальной функции приводит к тому, что численно посчитанная производная отфиченных данных будет наилучшей аппроксимацией истинной производной."
   ]
  },
  {
   "cell_type": "code",
   "execution_count": 8,
   "id": "33f09ce0",
   "metadata": {
    "scrolled": true
   },
   "outputs": [
    {
     "data": {
      "image/png": "[encoded data removed]",
      "text/plain": [
       "<Figure size 720x360 with 2 Axes>"
      ]
     },
     "metadata": {
      "needs_background": "light"
     },
     "output_type": "display_data"
    },
    {
     "name": "stdout",
     "output_type": "stream",
     "text": [
      "Видим, что нет особого смысла выбирать k>10, т.к. ошибка меняется незначительно.\n"
     ]
    }
   ],
   "source": [
    "from sklearn import metrics # лень опять реализовывать MSE Loss. Возьмём его отсюда.\n",
    "from sklearn import model_selection as ms\n",
    "\n",
    "x_train, x_test, y_train, y_test = ms.train_test_split(x, y, test_size=0.2) # Разбиваем выборку\n",
    "\n",
    "\n",
    "\n",
    "def make_model(k, x_train, y_train):\n",
    "    \n",
    "    in_reg = lm.LinearRegression(fit_intercept=False)\n",
    "    lin_reg.fit(x_train**([i for i in range(k+1)]), y_train) # Обучаем на трэйне\n",
    "    \n",
    "    return lin_reg\n",
    "\n",
    "\n",
    "ks = [k for k in range(30)]\n",
    "losses_func = []\n",
    "losses_diff = []\n",
    "\n",
    "\n",
    "for k in ks:\n",
    "    \n",
    "    model = make_model(k, x_train, y_train)\n",
    "    \n",
    "    y_test_predicted = model.predict(x_test**([i for i in range(k+1)]))\n",
    "    losses_func.append(metrics.mean_squared_error(y_test, y_test_predicted))\n",
    "                       \n",
    "    y_all_predicted = model.predict(x**([i for i in range(k+1)]))\n",
    "    losses_diff.append(metrics.mean_squared_error(y_diff_true, diff2(y_all_predicted, h)))\n",
    "\n",
    "\n",
    "\n",
    "fig, ax = plt.subplots(1, 2, figsize=(10, 5))\n",
    "ax[0].semilogy(ks, losses_func, linewidth= 3, c = 'r')\n",
    "ax[0].title.set_text('MSE аппроксимации функции от k')\n",
    "\n",
    "ax[1].semilogy(ks, losses_diff, linewidth= 2, c = 'b')\n",
    "ax[1].title.set_text('MSE аппроксимации производной от k')\n",
    "\n",
    "plt.show()\n",
    "\n",
    "print(\"Видим, что нет особого смысла выбирать k>10, т.к. ошибка меняется незначительно.\")"
   ]
  },
  {
   "cell_type": "markdown",
   "id": "7db0980a",
   "metadata": {},
   "source": [
    "Таким образом, мы научились фильтровать шум в данных, чтобы свести к минимуму случайную погрешность данных.\n",
    "\n",
    "Отдельно отметим, что второй график \"в реальности\" не получить, т.к. нам просто не будет известно аналитическая форма производной. Так что ориентируемся всё равно по первому графику"
   ]
  },
  {
   "cell_type": "markdown",
   "id": "65141c66",
   "metadata": {},
   "source": [
    "## Примеры\n",
    "\n",
    "1. Полагая, что написанные числа верны только до последней значащей цифры, найти приближенные значения следующих величин:\n",
    "\n",
    "a) $0,53784 \\cdot 42,46578$;\n",
    "\n",
    "б) $0,234+4,3758+15,372 \\cdot 0,3762$;\n"
   ]
  },
  {
   "cell_type": "markdown",
   "id": "8548f7c6",
   "metadata": {},
   "source": [
    "2. Найдите погрешность метода и неустранимую погрешность при вычислениях по этой формуле. Найдите оптимальный шаг численного дифференцирования и минимально возможную ошибку.\n",
    "\n",
    "\n",
    "$$\n",
    "f^{(2)}(x)=\\frac{f(x+h)-2 f(x)+f(x-h)}{h^2}\n",
    "$$"
   ]
  },
  {
   "cell_type": "code",
   "execution_count": 9,
   "id": "45f16e6a",
   "metadata": {},
   "outputs": [
    {
     "data": {
      "text/latex": [
       "$\\displaystyle f{\\left(x \\right)}$"
      ],
      "text/plain": [
       "f(x)"
      ]
     },
     "execution_count": 9,
     "metadata": {},
     "output_type": "execute_result"
    }
   ],
   "source": [
    "# Будем работать в библиотеке аналитических вычислений sympy\n",
    "#!pip install sympy\n",
    "import sympy as smp\n",
    "\n",
    "x = smp.symbols('x')\n",
    "f = smp.symbols('f', cls = smp.Function)(x) \n",
    "\n",
    "f"
   ]
  },
  {
   "cell_type": "code",
   "execution_count": 10,
   "id": "c05313b4",
   "metadata": {},
   "outputs": [
    {
     "data": {
      "text/latex": [
       "$\\displaystyle f{\\left(0 \\right)} + x \\left. \\frac{d}{d \\xi} f{\\left(\\xi \\right)} \\right|_{\\substack{ \\xi=0 }} + \\frac{x^{2} \\left. \\frac{d^{2}}{d \\xi^{2}} f{\\left(\\xi \\right)} \\right|_{\\substack{ \\xi=0 }}}{2} + \\frac{x^{3} \\left. \\frac{d^{3}}{d \\xi^{3}} f{\\left(\\xi \\right)} \\right|_{\\substack{ \\xi=0 }}}{6} + \\frac{x^{4} \\left. \\frac{d^{4}}{d \\xi^{4}} f{\\left(\\xi \\right)} \\right|_{\\substack{ \\xi=0 }}}{24} + O\\left(x^{5}\\right)$"
      ],
      "text/plain": [
       "f(0) + x*Subs(Derivative(f(xi), xi), xi, 0) + x**2*Subs(Derivative(f(xi), (xi, 2)), xi, 0)/2 + x**3*Subs(Derivative(f(xi), (xi, 3)), xi, 0)/6 + x**4*Subs(Derivative(f(xi), (xi, 4)), xi, 0)/24 + O(x**5)"
      ]
     },
     "execution_count": 10,
     "metadata": {},
     "output_type": "execute_result"
    }
   ],
   "source": [
    "f.series(x, 0, 5)"
   ]
  },
  {
   "cell_type": "code",
   "execution_count": 11,
   "id": "d2a3d209",
   "metadata": {},
   "outputs": [
    {
     "data": {
      "text/latex": [
       "$\\displaystyle f{\\left(x \\right)} + h \\left. \\frac{d}{d \\xi_{1}} f{\\left(\\xi_{1} \\right)} \\right|_{\\substack{ \\xi_{1}=x }} + \\frac{h^{2} \\left. \\frac{d^{2}}{d \\xi_{1}^{2}} f{\\left(\\xi_{1} \\right)} \\right|_{\\substack{ \\xi_{1}=x }}}{2} + \\frac{h^{3} \\left. \\frac{d^{3}}{d \\xi_{1}^{3}} f{\\left(\\xi_{1} \\right)} \\right|_{\\substack{ \\xi_{1}=x }}}{6} + \\frac{h^{4} \\left. \\frac{d^{4}}{d \\xi_{1}^{4}} f{\\left(\\xi_{1} \\right)} \\right|_{\\substack{ \\xi_{1}=x }}}{24} + O\\left(h^{5}\\right)$"
      ],
      "text/plain": [
       "f(x) + h*Subs(Derivative(f(_xi_1), _xi_1), _xi_1, x) + h**2*Subs(Derivative(f(_xi_1), (_xi_1, 2)), _xi_1, x)/2 + h**3*Subs(Derivative(f(_xi_1), (_xi_1, 3)), _xi_1, x)/6 + h**4*Subs(Derivative(f(_xi_1), (_xi_1, 4)), _xi_1, x)/24 + O(h**5)"
      ]
     },
     "execution_count": 11,
     "metadata": {},
     "output_type": "execute_result"
    }
   ],
   "source": [
    "h = smp.symbols('h')\n",
    "\n",
    "f_plus_h = smp.symbols('f', cls = smp.Function)(x+h) \n",
    "\n",
    "f_plus_h.series(h, 0, 5)"
   ]
  },
  {
   "cell_type": "code",
   "execution_count": 12,
   "id": "e7b82d2f",
   "metadata": {},
   "outputs": [
    {
     "data": {
      "text/latex": [
       "$\\displaystyle f{\\left(x \\right)} - h \\left. \\frac{d}{d \\xi_{1}} f{\\left(\\xi_{1} \\right)} \\right|_{\\substack{ \\xi_{1}=x }} + \\frac{h^{2} \\left. \\frac{d^{2}}{d \\xi_{1}^{2}} f{\\left(\\xi_{1} \\right)} \\right|_{\\substack{ \\xi_{1}=x }}}{2} - \\frac{h^{3} \\left. \\frac{d^{3}}{d \\xi_{1}^{3}} f{\\left(\\xi_{1} \\right)} \\right|_{\\substack{ \\xi_{1}=x }}}{6} + \\frac{h^{4} \\left. \\frac{d^{4}}{d \\xi_{1}^{4}} f{\\left(\\xi_{1} \\right)} \\right|_{\\substack{ \\xi_{1}=x }}}{24} + O\\left(h^{5}\\right)$"
      ],
      "text/plain": [
       "f(x) - h*Subs(Derivative(f(_xi_1), _xi_1), _xi_1, x) + h**2*Subs(Derivative(f(_xi_1), (_xi_1, 2)), _xi_1, x)/2 - h**3*Subs(Derivative(f(_xi_1), (_xi_1, 3)), _xi_1, x)/6 + h**4*Subs(Derivative(f(_xi_1), (_xi_1, 4)), _xi_1, x)/24 + O(h**5)"
      ]
     },
     "execution_count": 12,
     "metadata": {},
     "output_type": "execute_result"
    }
   ],
   "source": [
    "f_minus_h = smp.symbols('f', cls = smp.Function)(x-h) \n",
    "\n",
    "f_minus_h.series(h, 0, 5)"
   ]
  },
  {
   "cell_type": "code",
   "execution_count": 13,
   "id": "f9cd3bb8",
   "metadata": {},
   "outputs": [
    {
     "data": {
      "text/latex": [
       "$\\displaystyle h^{2} \\left. \\frac{d^{2}}{d \\xi_{1}^{2}} f{\\left(\\xi_{1} \\right)} \\right|_{\\substack{ \\xi_{1}=x }} + \\frac{h^{4} \\left. \\frac{d^{4}}{d \\xi_{1}^{4}} f{\\left(\\xi_{1} \\right)} \\right|_{\\substack{ \\xi_{1}=x }}}{12} + O\\left(h^{5}\\right)$"
      ],
      "text/plain": [
       "h**2*Subs(Derivative(f(_xi_1), (_xi_1, 2)), _xi_1, x) + h**4*Subs(Derivative(f(_xi_1), (_xi_1, 4)), _xi_1, x)/12 + O(h**5)"
      ]
     },
     "execution_count": 13,
     "metadata": {},
     "output_type": "execute_result"
    }
   ],
   "source": [
    "chislitel = f_plus_h.series(h, 0, 5) - 2*f + f_minus_h.series(h, 0, 5)\n",
    "chislitel"
   ]
  },
  {
   "cell_type": "code",
   "execution_count": 14,
   "id": "3af95194",
   "metadata": {},
   "outputs": [
    {
     "data": {
      "text/latex": [
       "$\\displaystyle h^{2} \\frac{d^{2}}{d x^{2}} f{\\left(x \\right)} + \\frac{h^{4} \\frac{d^{4}}{d x^{4}} f{\\left(x \\right)}}{12} + O\\left(h^{5}\\right)$"
      ],
      "text/plain": [
       "h**2*Derivative(f(x), (x, 2)) + h**4*Derivative(f(x), (x, 4))/12 + O(h**5)"
      ]
     },
     "execution_count": 14,
     "metadata": {},
     "output_type": "execute_result"
    }
   ],
   "source": [
    "chislitel.simplify()"
   ]
  },
  {
   "cell_type": "code",
   "execution_count": 15,
   "id": "df577d59",
   "metadata": {},
   "outputs": [
    {
     "data": {
      "text/latex": [
       "$\\displaystyle \\frac{d^{2}}{d x^{2}} f{\\left(x \\right)} + \\frac{h^{2} \\frac{d^{4}}{d x^{4}} f{\\left(x \\right)}}{12} + O\\left(h^{3}\\right)$"
      ],
      "text/plain": [
       "Derivative(f(x), (x, 2)) + h**2*Derivative(f(x), (x, 4))/12 + O(h**3)"
      ]
     },
     "execution_count": 15,
     "metadata": {},
     "output_type": "execute_result"
    }
   ],
   "source": [
    "(chislitel.simplify()/h**2).simplify()"
   ]
  },
  {
   "cell_type": "markdown",
   "id": "5eab1023",
   "metadata": {},
   "source": [
    "Итого ошибка метода есть\n",
    "\n",
    "$$\n",
    "\\varepsilon_{\\text{method}} = \\frac{h^2 M_4}{12}\n",
    "$$\n",
    "\n",
    "Т.е. второй порядок аппроксимации\n",
    "\n",
    "Ошибка округления же\n",
    "\n",
    "$$\n",
    "\\varepsilon_{\\text{round}} = \\frac{4 \\Delta f}{h^2}\n",
    "$$\n",
    "\n",
    "Суммарная погрешность тогда\n",
    "\n",
    "$$\n",
    "\\varepsilon = \\frac{h^2 M_4}{12} + \\frac{4 \\Delta f }{h^2}\n",
    "$$\n",
    "\n",
    "Необходимо аналитически найти её минимум. Опять же используем sympy"
   ]
  },
  {
   "cell_type": "code",
   "execution_count": 16,
   "id": "152c4390",
   "metadata": {},
   "outputs": [
    {
     "name": "stdout",
     "output_type": "stream",
     "text": [
      "M_4 Δf\n"
     ]
    }
   ],
   "source": [
    "M_4, deltaf = smp.symbols(['M_4', 'Δf'])\n",
    "print(M_4, deltaf)"
   ]
  },
  {
   "cell_type": "code",
   "execution_count": 17,
   "id": "09361a1d",
   "metadata": {},
   "outputs": [
    {
     "data": {
      "text/latex": [
       "$\\displaystyle \\varepsilon$"
      ],
      "text/plain": [
       "varepsilon"
      ]
     },
     "execution_count": 17,
     "metadata": {},
     "output_type": "execute_result"
    }
   ],
   "source": [
    "eps = smp.symbols('varepsilon')\n",
    "eps"
   ]
  },
  {
   "cell_type": "code",
   "execution_count": 18,
   "id": "2d3977c6",
   "metadata": {},
   "outputs": [
    {
     "data": {
      "text/latex": [
       "$\\displaystyle \\frac{M_{4} h^{2}}{12} + \\frac{4 Δf}{h^{2}}$"
      ],
      "text/plain": [
       "M_4*h**2/12 + 4*Δf/h**2"
      ]
     },
     "execution_count": 18,
     "metadata": {},
     "output_type": "execute_result"
    }
   ],
   "source": [
    "eps = h**2*M_4/12 + 4*deltaf/h**2\n",
    "eps"
   ]
  },
  {
   "cell_type": "code",
   "execution_count": 19,
   "id": "a9fe0f8e",
   "metadata": {},
   "outputs": [
    {
     "data": {
      "text/latex": [
       "$\\displaystyle \\frac{M_{4} h}{6} - \\frac{8 Δf}{h^{3}}$"
      ],
      "text/plain": [
       "M_4*h/6 - 8*Δf/h**3"
      ]
     },
     "execution_count": 19,
     "metadata": {},
     "output_type": "execute_result"
    }
   ],
   "source": [
    "eps_derivative = eps.diff(h)\n",
    "eps_derivative"
   ]
  },
  {
   "cell_type": "code",
   "execution_count": 20,
   "id": "ea765a1b",
   "metadata": {},
   "outputs": [
    {
     "data": {
      "text/plain": [
       "[-2*3**(1/4)*(Δf/M_4)**(1/4),\n",
       " 2*3**(1/4)*(Δf/M_4)**(1/4),\n",
       " -2*3**(1/4)*I*(Δf/M_4)**(1/4),\n",
       " 2*3**(1/4)*I*(Δf/M_4)**(1/4)]"
      ]
     },
     "execution_count": 20,
     "metadata": {},
     "output_type": "execute_result"
    }
   ],
   "source": [
    "smp.solve(eps_derivative, h)"
   ]
  },
  {
   "cell_type": "markdown",
   "id": "2b32b4bc",
   "metadata": {},
   "source": [
    "Только второе решение положительное действительное"
   ]
  },
  {
   "cell_type": "code",
   "execution_count": 21,
   "id": "50323790",
   "metadata": {},
   "outputs": [
    {
     "data": {
      "text/latex": [
       "$\\displaystyle 2 \\cdot \\sqrt[4]{3} \\sqrt[4]{\\frac{Δf}{M_{4}}}$"
      ],
      "text/plain": [
       "2*3**(1/4)*(Δf/M_4)**(1/4)"
      ]
     },
     "execution_count": 21,
     "metadata": {},
     "output_type": "execute_result"
    }
   ],
   "source": [
    "h_opt = smp.solve(eps_derivative, h)[1]\n",
    "h_opt"
   ]
  },
  {
   "cell_type": "code",
   "execution_count": 22,
   "id": "68d63631",
   "metadata": {},
   "outputs": [
    {
     "data": {
      "text/latex": [
       "$\\displaystyle \\frac{\\sqrt{3} M_{4} \\sqrt{\\frac{Δf}{M_{4}}}}{3} + \\frac{\\sqrt{3} Δf}{3 \\sqrt{\\frac{Δf}{M_{4}}}}$"
      ],
      "text/plain": [
       "sqrt(3)*M_4*sqrt(Δf/M_4)/3 + sqrt(3)*Δf/(3*sqrt(Δf/M_4))"
      ]
     },
     "execution_count": 22,
     "metadata": {},
     "output_type": "execute_result"
    }
   ],
   "source": [
    "eps_min = eps.replace(h, h_opt)\n",
    "eps_min"
   ]
  },
  {
   "cell_type": "code",
   "execution_count": 23,
   "id": "409676a9",
   "metadata": {},
   "outputs": [
    {
     "data": {
      "text/latex": [
       "$\\displaystyle \\frac{2 \\sqrt{3} Δf}{3 \\sqrt{\\frac{Δf}{M_{4}}}}$"
      ],
      "text/plain": [
       "2*sqrt(3)*Δf/(3*sqrt(Δf/M_4))"
      ]
     },
     "execution_count": 23,
     "metadata": {},
     "output_type": "execute_result"
    }
   ],
   "source": [
    "eps_min = eps_min.simplify()\n",
    "eps_min"
   ]
  },
  {
   "cell_type": "markdown",
   "id": "faccbaff",
   "metadata": {},
   "source": [
    "3. Найдите погрешность метода и неустранимую погрешность при вычислениях по этой формуле. Найдите оптимальный шаг численного дифференцирования и минимально возможную ошибку.\n",
    "\n",
    "$$\n",
    "f^{(3)}(x)=\\frac{f(x+2 h)-2 f(x+h)+2 f(x-h)-f(x-2 h)}{2 h^3}\n",
    "$$"
   ]
  },
  {
   "cell_type": "markdown",
   "id": "69729457",
   "metadata": {},
   "source": [
    "## Работа на дом"
   ]
  },
  {
   "cell_type": "markdown",
   "id": "d97dae9a",
   "metadata": {},
   "source": [
    "# Упражнение 1\n",
    "\n",
    "Вычислить численно первую и вторую производные функции, заданной таблично с одинаковым шагом по иксам. Использовать схемы не менее второго порядка аппроксимации на внутренних точках. Известно, что шума нет.\n",
    "\n",
    "Прим.: Не забудьте перевести питоновские списки [...] в нампаевские с помощью np.array([...])"
   ]
  },
  {
   "cell_type": "code",
   "execution_count": 24,
   "id": "6d20ba25",
   "metadata": {},
   "outputs": [
    {
     "data": {
      "text/plain": [
       "[<matplotlib.lines.Line2D at 0x2a8ee378340>]"
      ]
     },
     "execution_count": 24,
     "metadata": {},
     "output_type": "execute_result"
    },
    {
     "data": {
      "image/png": "[encoded data removed]",
      "text/plain": [
       "<Figure size 432x288 with 1 Axes>"
      ]
     },
     "metadata": {
      "needs_background": "light"
     },
     "output_type": "display_data"
    }
   ],
   "source": [
    "x = [0.        , 0.00502513, 0.01005025, 0.01507538, 0.0201005 ,\n",
    "       0.02512563, 0.03015075, 0.03517588, 0.04020101, 0.04522613,\n",
    "       0.05025126, 0.05527638, 0.06030151, 0.06532663, 0.07035176,\n",
    "       0.07537688, 0.08040201, 0.08542714, 0.09045226, 0.09547739,\n",
    "       0.10050251, 0.10552764, 0.11055276, 0.11557789, 0.12060302,\n",
    "       0.12562814, 0.13065327, 0.13567839, 0.14070352, 0.14572864,\n",
    "       0.15075377, 0.15577889, 0.16080402, 0.16582915, 0.17085427,\n",
    "       0.1758794 , 0.18090452, 0.18592965, 0.19095477, 0.1959799 ,\n",
    "       0.20100503, 0.20603015, 0.21105528, 0.2160804 , 0.22110553,\n",
    "       0.22613065, 0.23115578, 0.2361809 , 0.24120603, 0.24623116,\n",
    "       0.25125628, 0.25628141, 0.26130653, 0.26633166, 0.27135678,\n",
    "       0.27638191, 0.28140704, 0.28643216, 0.29145729, 0.29648241,\n",
    "       0.30150754, 0.30653266, 0.31155779, 0.31658291, 0.32160804,\n",
    "       0.32663317, 0.33165829, 0.33668342, 0.34170854, 0.34673367,\n",
    "       0.35175879, 0.35678392, 0.36180905, 0.36683417, 0.3718593 ,\n",
    "       0.37688442, 0.38190955, 0.38693467, 0.3919598 , 0.39698492,\n",
    "       0.40201005, 0.40703518, 0.4120603 , 0.41708543, 0.42211055,\n",
    "       0.42713568, 0.4321608 , 0.43718593, 0.44221106, 0.44723618,\n",
    "       0.45226131, 0.45728643, 0.46231156, 0.46733668, 0.47236181,\n",
    "       0.47738693, 0.48241206, 0.48743719, 0.49246231, 0.49748744,\n",
    "       0.50251256, 0.50753769, 0.51256281, 0.51758794, 0.52261307,\n",
    "       0.52763819, 0.53266332, 0.53768844, 0.54271357, 0.54773869,\n",
    "       0.55276382, 0.55778894, 0.56281407, 0.5678392 , 0.57286432,\n",
    "       0.57788945, 0.58291457, 0.5879397 , 0.59296482, 0.59798995,\n",
    "       0.60301508, 0.6080402 , 0.61306533, 0.61809045, 0.62311558,\n",
    "       0.6281407 , 0.63316583, 0.63819095, 0.64321608, 0.64824121,\n",
    "       0.65326633, 0.65829146, 0.66331658, 0.66834171, 0.67336683,\n",
    "       0.67839196, 0.68341709, 0.68844221, 0.69346734, 0.69849246,\n",
    "       0.70351759, 0.70854271, 0.71356784, 0.71859296, 0.72361809,\n",
    "       0.72864322, 0.73366834, 0.73869347, 0.74371859, 0.74874372,\n",
    "       0.75376884, 0.75879397, 0.7638191 , 0.76884422, 0.77386935,\n",
    "       0.77889447, 0.7839196 , 0.78894472, 0.79396985, 0.79899497,\n",
    "       0.8040201 , 0.80904523, 0.81407035, 0.81909548, 0.8241206 ,\n",
    "       0.82914573, 0.83417085, 0.83919598, 0.84422111, 0.84924623,\n",
    "       0.85427136, 0.85929648, 0.86432161, 0.86934673, 0.87437186,\n",
    "       0.87939698, 0.88442211, 0.88944724, 0.89447236, 0.89949749,\n",
    "       0.90452261, 0.90954774, 0.91457286, 0.91959799, 0.92462312,\n",
    "       0.92964824, 0.93467337, 0.93969849, 0.94472362, 0.94974874,\n",
    "       0.95477387, 0.95979899, 0.96482412, 0.96984925, 0.97487437,\n",
    "       0.9798995 , 0.98492462, 0.98994975, 0.99497487, 1.        ]\n",
    "\n",
    "y = [1.        , 0.99999987, 0.99999898, 0.99999657, 0.99999188,\n",
    "       0.99998414, 0.99997259, 0.99995648, 0.99993503, 0.99990749,\n",
    "       0.99987311, 0.9998311 , 0.99978073, 0.99972121, 0.9996518 ,\n",
    "       0.99957173, 0.99948024, 0.99937657, 0.99925995, 0.99912963,\n",
    "       0.99898485, 0.99882484, 0.99864883, 0.99845608, 0.99824582,\n",
    "       0.99801728, 0.99776971, 0.99750235, 0.99721442, 0.99690518,\n",
    "       0.99657386, 0.9962197 , 0.99584194, 0.99543981, 0.99501256,\n",
    "       0.99455942, 0.99407964, 0.99357244, 0.99303708, 0.99247278,\n",
    "       0.99187879, 0.99125435, 0.99059868, 0.98991105, 0.98919067,\n",
    "       0.98843679, 0.98764865, 0.98682549, 0.98596655, 0.98507106,\n",
    "       0.98413826, 0.9831674 , 0.9821577 , 0.98110842, 0.98001878,\n",
    "       0.97888803, 0.9777154 , 0.97650014, 0.97524148, 0.97393866,\n",
    "       0.97259092, 0.97119749, 0.96975763, 0.96827056, 0.96673552,\n",
    "       0.96515176, 0.96351851, 0.96183501, 0.9601005 , 0.95831421,\n",
    "       0.95647539, 0.95458327, 0.9526371 , 0.95063611, 0.94857954,\n",
    "       0.94646663, 0.94429662, 0.94206875, 0.93978224, 0.93743636,\n",
    "       0.93503032, 0.93256337, 0.93003476, 0.92744371, 0.92478947,\n",
    "       0.92207128, 0.91928837, 0.91643998, 0.91352535, 0.91054373,\n",
    "       0.90749434, 0.90437643, 0.90118924, 0.897932  , 0.89460395,\n",
    "       0.89120434, 0.88773239, 0.88418735, 0.88056847, 0.87687497,\n",
    "       0.87310609, 0.86926108, 0.86533917, 0.8613396 , 0.85726161,\n",
    "       0.85310444, 0.84886732, 0.84454951, 0.84015022, 0.83566871,\n",
    "       0.83110421, 0.82645596, 0.8217232 , 0.81690516, 0.81200109,\n",
    "       0.80701023, 0.80193181, 0.79676507, 0.79150925, 0.78616359,\n",
    "       0.78072732, 0.7751997 , 0.76957995, 0.76386732, 0.75806103,\n",
    "       0.75216034, 0.74616447, 0.74007268, 0.73388419, 0.72759824,\n",
    "       0.72121409, 0.71473095, 0.70814808, 0.7014647 , 0.69468007,\n",
    "       0.6877934 , 0.68080395, 0.67371097, 0.66651367, 0.65921131,\n",
    "       0.65180311, 0.64428834, 0.6366662 , 0.62893596, 0.62109682,\n",
    "       0.61314806, 0.60508891, 0.59691858, 0.58863635, 0.58024142,\n",
    "       0.57173307, 0.56311049, 0.55437295, 0.5455197 , 0.53654994,\n",
    "       0.52746295, 0.51825794, 0.50893416, 0.49949084, 0.48992723,\n",
    "       0.48024256, 0.47043606, 0.460507  , 0.45045459, 0.44027809,\n",
    "       0.4299767 , 0.41954972, 0.40899632, 0.39831578, 0.38750735,\n",
    "       0.37657023, 0.36550369, 0.35430695, 0.34297927, 0.33151985,\n",
    "       0.31992798, 0.30820284, 0.29634371, 0.28434984, 0.27222042,\n",
    "       0.25995474, 0.24755199, 0.23501146, 0.22233234, 0.20951388,\n",
    "       0.19655537, 0.18345597, 0.17021499, 0.1568316 , 0.14330511,\n",
    "       0.12963469, 0.11581964, 0.10185914, 0.08775246, 0.07349886,\n",
    "       0.05909753, 0.04454776, 0.02984874, 0.01499976, 0.        ]\n",
    "\n",
    "plt.plot(x, y)"
   ]
  },
  {
   "cell_type": "markdown",
   "id": "6d051a93",
   "metadata": {},
   "source": [
    "# Упражнение 2\n",
    "\n",
    "Вычислить численно первую и вторую производные функции, заданной таблично с одинаковым шагом по иксам. Использовать схемы не менее второго порядка аппроксимации на внутренних точках. Данные теперь щашумлены ;).\n",
    "\n",
    "Прим.: Не забудьте перевести питоновские списки [...] в нампаевские с помощью np.array([...])"
   ]
  },
  {
   "cell_type": "code",
   "execution_count": 25,
   "id": "8ec8515b",
   "metadata": {},
   "outputs": [
    {
     "data": {
      "text/plain": [
       "[<matplotlib.lines.Line2D at 0x2a8ee379780>]"
      ]
     },
     "execution_count": 25,
     "metadata": {},
     "output_type": "execute_result"
    },
    {
     "data": {
      "image/png": "[encoded data removed]",
      "text/plain": [
       "<Figure size 432x288 with 1 Axes>"
      ]
     },
     "metadata": {
      "needs_background": "light"
     },
     "output_type": "display_data"
    }
   ],
   "source": [
    "x = [1.        , 1.01337793, 1.02675585, 1.04013378, 1.05351171,\n",
    "       1.06688963, 1.08026756, 1.09364548, 1.10702341, 1.12040134,\n",
    "       1.13377926, 1.14715719, 1.16053512, 1.17391304, 1.18729097,\n",
    "       1.2006689 , 1.21404682, 1.22742475, 1.24080268, 1.2541806 ,\n",
    "       1.26755853, 1.28093645, 1.29431438, 1.30769231, 1.32107023,\n",
    "       1.33444816, 1.34782609, 1.36120401, 1.37458194, 1.38795987,\n",
    "       1.40133779, 1.41471572, 1.42809365, 1.44147157, 1.4548495 ,\n",
    "       1.46822742, 1.48160535, 1.49498328, 1.5083612 , 1.52173913,\n",
    "       1.53511706, 1.54849498, 1.56187291, 1.57525084, 1.58862876,\n",
    "       1.60200669, 1.61538462, 1.62876254, 1.64214047, 1.65551839,\n",
    "       1.66889632, 1.68227425, 1.69565217, 1.7090301 , 1.72240803,\n",
    "       1.73578595, 1.74916388, 1.76254181, 1.77591973, 1.78929766,\n",
    "       1.80267559, 1.81605351, 1.82943144, 1.84280936, 1.85618729,\n",
    "       1.86956522, 1.88294314, 1.89632107, 1.909699  , 1.92307692,\n",
    "       1.93645485, 1.94983278, 1.9632107 , 1.97658863, 1.98996656,\n",
    "       2.00334448, 2.01672241, 2.03010033, 2.04347826, 2.05685619,\n",
    "       2.07023411, 2.08361204, 2.09698997, 2.11036789, 2.12374582,\n",
    "       2.13712375, 2.15050167, 2.1638796 , 2.17725753, 2.19063545,\n",
    "       2.20401338, 2.2173913 , 2.23076923, 2.24414716, 2.25752508,\n",
    "       2.27090301, 2.28428094, 2.29765886, 2.31103679, 2.32441472,\n",
    "       2.33779264, 2.35117057, 2.36454849, 2.37792642, 2.39130435,\n",
    "       2.40468227, 2.4180602 , 2.43143813, 2.44481605, 2.45819398,\n",
    "       2.47157191, 2.48494983, 2.49832776, 2.51170569, 2.52508361,\n",
    "       2.53846154, 2.55183946, 2.56521739, 2.57859532, 2.59197324,\n",
    "       2.60535117, 2.6187291 , 2.63210702, 2.64548495, 2.65886288,\n",
    "       2.6722408 , 2.68561873, 2.69899666, 2.71237458, 2.72575251,\n",
    "       2.73913043, 2.75250836, 2.76588629, 2.77926421, 2.79264214,\n",
    "       2.80602007, 2.81939799, 2.83277592, 2.84615385, 2.85953177,\n",
    "       2.8729097 , 2.88628763, 2.89966555, 2.91304348, 2.9264214 ,\n",
    "       2.93979933, 2.95317726, 2.96655518, 2.97993311, 2.99331104,\n",
    "       3.00668896, 3.02006689, 3.03344482, 3.04682274, 3.06020067,\n",
    "       3.0735786 , 3.08695652, 3.10033445, 3.11371237, 3.1270903 ,\n",
    "       3.14046823, 3.15384615, 3.16722408, 3.18060201, 3.19397993,\n",
    "       3.20735786, 3.22073579, 3.23411371, 3.24749164, 3.26086957,\n",
    "       3.27424749, 3.28762542, 3.30100334, 3.31438127, 3.3277592 ,\n",
    "       3.34113712, 3.35451505, 3.36789298, 3.3812709 , 3.39464883,\n",
    "       3.40802676, 3.42140468, 3.43478261, 3.44816054, 3.46153846,\n",
    "       3.47491639, 3.48829431, 3.50167224, 3.51505017, 3.52842809,\n",
    "       3.54180602, 3.55518395, 3.56856187, 3.5819398 , 3.59531773,\n",
    "       3.60869565, 3.62207358, 3.63545151, 3.64882943, 3.66220736,\n",
    "       3.67558528, 3.68896321, 3.70234114, 3.71571906, 3.72909699,\n",
    "       3.74247492, 3.75585284, 3.76923077, 3.7826087 , 3.79598662,\n",
    "       3.80936455, 3.82274247, 3.8361204 , 3.84949833, 3.86287625,\n",
    "       3.87625418, 3.88963211, 3.90301003, 3.91638796, 3.92976589,\n",
    "       3.94314381, 3.95652174, 3.96989967, 3.98327759, 3.99665552,\n",
    "       4.01003344, 4.02341137, 4.0367893 , 4.05016722, 4.06354515,\n",
    "       4.07692308, 4.090301  , 4.10367893, 4.11705686, 4.13043478,\n",
    "       4.14381271, 4.15719064, 4.17056856, 4.18394649, 4.19732441,\n",
    "       4.21070234, 4.22408027, 4.23745819, 4.25083612, 4.26421405,\n",
    "       4.27759197, 4.2909699 , 4.30434783, 4.31772575, 4.33110368,\n",
    "       4.34448161, 4.35785953, 4.37123746, 4.38461538, 4.39799331,\n",
    "       4.41137124, 4.42474916, 4.43812709, 4.45150502, 4.46488294,\n",
    "       4.47826087, 4.4916388 , 4.50501672, 4.51839465, 4.53177258,\n",
    "       4.5451505 , 4.55852843, 4.57190635, 4.58528428, 4.59866221,\n",
    "       4.61204013, 4.62541806, 4.63879599, 4.65217391, 4.66555184,\n",
    "       4.67892977, 4.69230769, 4.70568562, 4.71906355, 4.73244147,\n",
    "       4.7458194 , 4.75919732, 4.77257525, 4.78595318, 4.7993311 ,\n",
    "       4.81270903, 4.82608696, 4.83946488, 4.85284281, 4.86622074,\n",
    "       4.87959866, 4.89297659, 4.90635452, 4.91973244, 4.93311037,\n",
    "       4.94648829, 4.95986622, 4.97324415, 4.98662207, 5.        ]\n",
    "\n",
    "y = [ 0.48863805,  0.4706063 ,  0.4493648 ,  0.42075058,  0.40608114,\n",
    "        0.38294133,  0.34397085,  0.32196163,  0.3140574 ,  0.28508636,\n",
    "        0.2590824 ,  0.22879908,  0.21364165,  0.18871463,  0.17157309,\n",
    "        0.14975436,  0.13267386,  0.1054287 ,  0.08140074,  0.05995963,\n",
    "        0.04864072,  0.02048689,  0.00986834, -0.00683534, -0.03565149,\n",
    "       -0.04383209, -0.06428567, -0.07931248, -0.09793194, -0.11519411,\n",
    "       -0.13062949, -0.1359394 , -0.15451834, -0.15434391, -0.16995244,\n",
    "       -0.19729437, -0.19916606, -0.20620754, -0.23002474, -0.23628555,\n",
    "       -0.23047724, -0.24710707, -0.23942271, -0.25857637, -0.26678739,\n",
    "       -0.26170215, -0.27284519, -0.27340328, -0.26849006, -0.27058684,\n",
    "       -0.27805442, -0.27266571, -0.26813815, -0.27644061, -0.26521816,\n",
    "       -0.25489861, -0.26611842, -0.25564442, -0.2452349 , -0.24137907,\n",
    "       -0.24394094, -0.22478145, -0.23174912, -0.21952174, -0.20088855,\n",
    "       -0.19503158, -0.18768235, -0.18261683, -0.17177333, -0.17668631,\n",
    "       -0.15533076, -0.13822566, -0.13259038, -0.12373451, -0.10640144,\n",
    "       -0.10027304, -0.0804523 , -0.08328208, -0.06070371, -0.04482286,\n",
    "       -0.03343396, -0.02100707, -0.01258064,  0.00276372,  0.00705245,\n",
    "        0.01533925,  0.03351731,  0.04558241,  0.05157895,  0.07602384,\n",
    "        0.0857951 ,  0.08844834,  0.10029526,  0.11172865,  0.12137859,\n",
    "        0.1322108 ,  0.14310398,  0.14042411,  0.15600623,  0.16158499,\n",
    "        0.16661173,  0.17795138,  0.17420817,  0.16943876,  0.18398173,\n",
    "        0.18447575,  0.18538053,  0.19310823,  0.18246343,  0.19667835,\n",
    "        0.18487044,  0.18879618,  0.19523542,  0.18077048,  0.17602092,\n",
    "        0.18393253,  0.16944479,  0.16357239,  0.15855583,  0.13623582,\n",
    "        0.13497459,  0.13340937,  0.11753257,  0.10511337,  0.10509054,\n",
    "        0.0877562 ,  0.07505764,  0.04466765,  0.04106671,  0.02698227,\n",
    "        0.00408617, -0.01386932, -0.02437554, -0.04616   , -0.06965996,\n",
    "       -0.09103768, -0.10782492, -0.12915359, -0.15054097, -0.18511282,\n",
    "       -0.2045241 , -0.2199459 , -0.24437012, -0.26786494, -0.30492996,\n",
    "       -0.33444034, -0.35923335, -0.39254697, -0.41916829, -0.43605909,\n",
    "       -0.46252906, -0.49371472, -0.53304183, -0.56596648, -0.57574361,\n",
    "       -0.61592146, -0.64552114, -0.67802708, -0.70343358, -0.73581649,\n",
    "       -0.76749808, -0.80706539, -0.83514307, -0.85887137, -0.88694473,\n",
    "       -0.92814296, -0.94889084, -0.98639813, -1.00937506, -1.04211274,\n",
    "       -1.06868071, -1.09937414, -1.11997578, -1.16238816, -1.17877914,\n",
    "       -1.20729979, -1.23115284, -1.25959016, -1.28481186, -1.3161271 ,\n",
    "       -1.33420269, -1.36471453, -1.38270606, -1.40226966, -1.42646112,\n",
    "       -1.44956427, -1.46870423, -1.47649288, -1.50829415, -1.53101375,\n",
    "       -1.55332363, -1.56095535, -1.58092825, -1.58682895, -1.59585189,\n",
    "       -1.6174715 , -1.63632323, -1.64085533, -1.65408224, -1.66148126,\n",
    "       -1.66693371, -1.67880729, -1.68812533, -1.68746128, -1.69957483,\n",
    "       -1.70198022, -1.71196058, -1.69797514, -1.71677912, -1.71644881,\n",
    "       -1.71677748, -1.71727519, -1.70944014, -1.71558185, -1.71203251,\n",
    "       -1.70384492, -1.70050829, -1.70057077, -1.69670383, -1.67977146,\n",
    "       -1.68155394, -1.67529224, -1.66600175, -1.65911615, -1.65036756,\n",
    "       -1.63486243, -1.62892397, -1.61816981, -1.61123198, -1.60474294,\n",
    "       -1.58733502, -1.57801458, -1.5516538 , -1.54236321, -1.53941575,\n",
    "       -1.52009207, -1.51827931, -1.49223717, -1.48353035, -1.47737445,\n",
    "       -1.45020072, -1.44214587, -1.43053664, -1.40968572, -1.39821305,\n",
    "       -1.39563639, -1.38451407, -1.36636951, -1.35802387, -1.33351002,\n",
    "       -1.32367539, -1.30984424, -1.29798304, -1.29223666, -1.2780077 ,\n",
    "       -1.25809695, -1.25328938, -1.24915647, -1.243037  , -1.22771404,\n",
    "       -1.22354855, -1.20605964, -1.20801043, -1.19416947, -1.19887309,\n",
    "       -1.18742172, -1.17901188, -1.18459576, -1.17420289, -1.16945966,\n",
    "       -1.16534322, -1.17333321, -1.16421488, -1.16911536, -1.16131656,\n",
    "       -1.15992369, -1.16795747, -1.16239026, -1.16862322, -1.16913217,\n",
    "       -1.17802895, -1.19333929, -1.18737164, -1.20780522, -1.20185831,\n",
    "       -1.20855227, -1.22559971, -1.23378326, -1.23833275, -1.24691611,\n",
    "       -1.26466511, -1.27370955, -1.28863025, -1.29633105, -1.31891104,\n",
    "       -1.32804598, -1.34375795, -1.35719863, -1.3663852 , -1.38759841]\n",
    "\n",
    "plt.plot(x, y)"
   ]
  },
  {
   "cell_type": "markdown",
   "id": "b9a7a386",
   "metadata": {},
   "source": [
    "# Упражнение 3\n",
    "\n",
    "Найдите погрешность метода и неустранимую погрешность при вычислениях по этой формуле. Найдите оптимальный шаг численного дифференцирования и минимально возможную ошибку.\n",
    "\n",
    "$$\n",
    "f^{(1)}\\left(x_{0}\\right) \\approx \\frac{1}{12 h}\\left(f_{i-2}-8 f_{i-1}+8 f_{i+1}-f_{i+2}\\right)\n",
    "$$"
   ]
  },
  {
   "cell_type": "markdown",
   "id": "df72848e",
   "metadata": {},
   "source": [
    "# Упражнение 4\n",
    "\n",
    "Чему равна погрешность в определении корней уравнения $a x^3+b x^2=0$, если $a=1 \\pm 10^{-3}, b=-4 \\pm 10^{-3}$ ?"
   ]
  },
  {
   "cell_type": "markdown",
   "id": "e138af4f",
   "metadata": {},
   "source": [
    "# Упражнение 5\n",
    "\n",
    "Пусть задана последовательность чисел $x_n, n=0,1,2, \\ldots$, причем $x_{n+1}-5 x_n=4$, а $x_0$ известно с относительной погрешностью $10^{-6} .$ При каких значениях $x_0$ относительная погрешность при вычислении $x_n$ будет быстро возрастать с ростом $n$ ?"
   ]
  }
 ],
 "metadata": {
  "kernelspec": {
   "display_name": "Python 3 (ipykernel)",
   "language": "python",
   "name": "python3"
  },
  "language_info": {
   "codemirror_mode": {
    "name": "ipython",
    "version": 3
   },
   "file_extension": ".py",
   "mimetype": "text/x-python",
   "name": "python",
   "nbconvert_exporter": "python",
   "pygments_lexer": "ipython3",
   "version": "3.8.10"
  }
 },
 "nbformat": 4,
 "nbformat_minor": 5
}
