{
 "cells": [
  {
   "cell_type": "code",
   "execution_count": 1,
   "metadata": {},
   "outputs": [],
   "source": [
    "import numpy as np\n",
    "from matplotlib import pyplot as plt"
   ]
  },
  {
   "cell_type": "markdown",
   "metadata": {},
   "source": [
    "# 1. Прямая с шумом"
   ]
  },
  {
   "cell_type": "markdown",
   "metadata": {},
   "source": [
    "Сгенерируем точки $(x_i, y_i)$ по закону\n",
    "$$\n",
    "    y = w_1 x + w_0 + \\epsilon,\n",
    "$$\n",
    "где $\\epsilon$ - случайная величина из нормального распределения, моделирующая разброс точек. "
   ]
  },
  {
   "cell_type": "markdown",
   "metadata": {},
   "source": [
    "Возьмем $\\epsilon \\sim \\mathcal{N}(0, 0.3)$. "
   ]
  },
  {
   "cell_type": "code",
   "execution_count": 2,
   "metadata": {},
   "outputs": [
    {
     "name": "stdout",
     "output_type": "stream",
     "text": [
      "True w: 1.7 2.3\n"
     ]
    }
   ],
   "source": [
    "true_w1 = 1.7\n",
    "true_w0 = 2.3\n",
    "print('True w:', true_w1, true_w0)\n",
    "\n",
    "x_train = np.arange(1, 5, 0.2)\n",
    "noise = np.random.normal(0, 0.3, size=x_train.shape)\n",
    "y_train = x_train * true_w1 + true_w0 + noise\n",
    "# [x * true_w1 + true_w0 for x in xs] -- BAD!"
   ]
  },
  {
   "cell_type": "code",
   "execution_count": 3,
   "metadata": {},
   "outputs": [
    {
     "data": {
      "image/png": "[encoded data removed]",
      "text/plain": [
       "<Figure size 432x288 with 1 Axes>"
      ]
     },
     "metadata": {
      "needs_background": "light"
     },
     "output_type": "display_data"
    }
   ],
   "source": [
    "plt.scatter(x_train, y_train)\n",
    "plt.plot(x_train, y_train - noise, c='r')\n",
    "plt.show()"
   ]
  },
  {
   "cell_type": "markdown",
   "metadata": {},
   "source": [
    "Применим формулы метода наименьших квадратов, выведенные на лекции:\n",
    "\n",
    "$$\n",
    "    \\hat{w_1} = \\sum_{i=1}^{l} \\frac{(x_i - \\bar{x})(y_i - \\bar{y})} {(x_i - \\bar{x})^2} = \\frac{\\hat{\\text{cov}}(x, y)}{\\hat{\\text{var}} \\, x}, \\qquad \\hat{w_0} = \\bar{y} - \\hat{w_1} \\bar{x},\n",
    "$$\n",
    "где $\\bar{x} = \\frac{1}{l} \\sum_{i=1}^{l} x_i$ и $\\bar{y} = \\frac{1}{l} \\sum_{i=1}^{l} y_i$ - это средние по выборке.\n",
    "\n",
    "Выборочные дисперсии и ковариация:\n",
    "$$\n",
    "    \\hat{\\text{var}} \\, x = \\frac{1}{l} \\sum_{i=1}^{l} (x_i - \\bar{x})^2 \\qquad\n",
    "    \\hat{\\text{var}} \\, y = \\frac{1}{l} \\sum_{i=1}^{l} (y_i - \\bar{y})^2 \\qquad\n",
    "    \\hat{\\text{cov}}(x, y) = \\frac{1}{l} \\sum_{i=1}^{l} (x_i - \\bar{x})(y_i - \\bar{y})\n",
    "$$"
   ]
  },
  {
   "cell_type": "code",
   "execution_count": 4,
   "metadata": {},
   "outputs": [
    {
     "data": {
      "text/plain": [
       "(1.3299999999999994, 3.4864683932667964, 2.132746864382085)"
      ]
     },
     "execution_count": 4,
     "metadata": {},
     "output_type": "execute_result"
    }
   ],
   "source": [
    "var_x = np.mean((x_train - x_train.mean()) ** 2)\n",
    "var_y = np.mean((y_train - y_train.mean()) ** 2)\n",
    "cov_xy = np.mean((x_train - x_train.mean()) * (y_train - y_train.mean()))\n",
    "\n",
    "(var_x, var_y, cov_xy)"
   ]
  },
  {
   "cell_type": "code",
   "execution_count": 5,
   "metadata": {},
   "outputs": [
    {
     "data": {
      "text/plain": [
       "(1.3299999999999994, 3.4864683932667964)"
      ]
     },
     "execution_count": 5,
     "metadata": {},
     "output_type": "execute_result"
    }
   ],
   "source": [
    "(np.var(x_train), np.var(y_train))"
   ]
  },
  {
   "cell_type": "code",
   "execution_count": 6,
   "metadata": {},
   "outputs": [
    {
     "data": {
      "text/plain": [
       "array([[1.33      , 2.13274686],\n",
       "       [2.13274686, 3.48646839]])"
      ]
     },
     "execution_count": 6,
     "metadata": {},
     "output_type": "execute_result"
    }
   ],
   "source": [
    "np.cov([x_train, y_train], bias=True)"
   ]
  },
  {
   "cell_type": "code",
   "execution_count": 7,
   "metadata": {},
   "outputs": [
    {
     "data": {
      "text/plain": [
       "(1.3299999999999994, 3.4864683932667964, 2.132746864382085)"
      ]
     },
     "execution_count": 7,
     "metadata": {},
     "output_type": "execute_result"
    }
   ],
   "source": [
    "(np.var(x_train), np.var(y_train), np.cov([x_train, y_train], bias=True)[0, 1])"
   ]
  },
  {
   "cell_type": "code",
   "execution_count": 8,
   "metadata": {},
   "outputs": [
    {
     "name": "stdout",
     "output_type": "stream",
     "text": [
      "True w: 1.7 2.3\n",
      "Restored w: 1.6035690709639745 2.540399998456505\n"
     ]
    }
   ],
   "source": [
    "w1 = cov_xy / var_x\n",
    "w0 = y_train.mean() - w1 * x_train.mean()\n",
    "\n",
    "print('True w:', true_w1, true_w0)\n",
    "print('Restored w:', w1, w0)"
   ]
  },
  {
   "cell_type": "code",
   "execution_count": 9,
   "metadata": {},
   "outputs": [
    {
     "data": {
      "image/png": "[encoded data removed]",
      "text/plain": [
       "<Figure size 432x288 with 1 Axes>"
      ]
     },
     "metadata": {
      "needs_background": "light"
     },
     "output_type": "display_data"
    }
   ],
   "source": [
    "plt.scatter(x_train, y_train)\n",
    "plt.plot(x_train, y_train - noise, c='r')\n",
    "plt.plot(x_train, x_train * w1 + w0, c='b')\n",
    "plt.show()"
   ]
  },
  {
   "cell_type": "markdown",
   "metadata": {},
   "source": [
    "Посчитаем коэффицент линейной корреляции Пирсона:\n",
    "\n",
    "$$\n",
    "    r = \\frac{\\hat{\\text{cov}}(x, y)}{\\sqrt{ \\hat{\\text{var}} \\, x \\, \\hat{\\text{var}} \\, y}}\n",
    "$$"
   ]
  },
  {
   "cell_type": "code",
   "execution_count": 10,
   "metadata": {},
   "outputs": [
    {
     "data": {
      "text/plain": [
       "0.9904227907822198"
      ]
     },
     "execution_count": 10,
     "metadata": {},
     "output_type": "execute_result"
    }
   ],
   "source": [
    "r = cov_xy / np.sqrt(var_x * var_y)\n",
    "r"
   ]
  },
  {
   "cell_type": "markdown",
   "metadata": {},
   "source": [
    "Воспользуемся формализмом матрицы объект-признак и решением МНК через псевдообратную матрицу.\n",
    "\n",
    "В нашем случае (1D регрессия с учетом смещения $\\check{y} = w_1 x + w_0$) имеем два признака: сам $x$ и постоянный признак $1$, отвечающий смещению.  \n",
    "$$\n",
    "    X = \\begin{pmatrix}\n",
    "        x_1 & 1 \\\\\n",
    "        x_2 & 1 \\\\\n",
    "        \\dots & \\dots \\\\\n",
    "        x_l & 1\n",
    "    \\end{pmatrix} \n",
    "    \\qquad\n",
    "    y = \\begin{pmatrix}\n",
    "        y_1 \\\\\n",
    "        y_2 \\\\\n",
    "        \\dots \\\\\n",
    "        y_l\n",
    "    \\end{pmatrix} \n",
    "$$"
   ]
  },
  {
   "cell_type": "code",
   "execution_count": 11,
   "metadata": {},
   "outputs": [
    {
     "data": {
      "text/plain": [
       "(20,)"
      ]
     },
     "execution_count": 11,
     "metadata": {},
     "output_type": "execute_result"
    }
   ],
   "source": [
    "x_train.shape"
   ]
  },
  {
   "cell_type": "code",
   "execution_count": 12,
   "metadata": {},
   "outputs": [
    {
     "data": {
      "text/plain": [
       "(20, 2)"
      ]
     },
     "execution_count": 12,
     "metadata": {},
     "output_type": "execute_result"
    }
   ],
   "source": [
    "X = x_train.reshape((-1, 1))\n",
    "X = np.hstack([X, np.ones(X.shape)])\n",
    "X.shape"
   ]
  },
  {
   "cell_type": "code",
   "execution_count": 13,
   "metadata": {},
   "outputs": [
    {
     "data": {
      "text/plain": [
       "array([[1., 0.],\n",
       "       [0., 1.]])"
      ]
     },
     "execution_count": 13,
     "metadata": {},
     "output_type": "execute_result"
    }
   ],
   "source": [
    "Q = np.linalg.inv(X.T @ X) @ X.T\n",
    "np.round(Q @ X)"
   ]
  },
  {
   "cell_type": "code",
   "execution_count": 14,
   "metadata": {},
   "outputs": [],
   "source": [
    "def left_pseudoinverse(X):\n",
    "    return np.linalg.inv(X.T @ X) @ X.T"
   ]
  },
  {
   "cell_type": "code",
   "execution_count": 15,
   "metadata": {},
   "outputs": [
    {
     "data": {
      "text/plain": [
       "array([[1., 0.],\n",
       "       [0., 1.]])"
      ]
     },
     "execution_count": 15,
     "metadata": {},
     "output_type": "execute_result"
    }
   ],
   "source": [
    "Q = left_pseudoinverse(X)\n",
    "np.round(Q @ X)"
   ]
  },
  {
   "cell_type": "code",
   "execution_count": 16,
   "metadata": {},
   "outputs": [
    {
     "data": {
      "text/plain": [
       "array([1.60356907, 2.5404    ])"
      ]
     },
     "execution_count": 16,
     "metadata": {},
     "output_type": "execute_result"
    }
   ],
   "source": [
    "w = Q @ y_train\n",
    "w"
   ]
  },
  {
   "cell_type": "markdown",
   "metadata": {},
   "source": [
    "Учесть систематическую погрешность $y_i \\pm s$ можно при помощи усреднения по ансамблю выборок (приборов), рассматривая случайную величину $\\tilde{y_i} \\sim \\mathcal{N}(y_i, s^2)$.\n",
    "\n",
    "Тогда, как было показано на лекции, для дисперсии параметров модели (весов) получим\n",
    "$$\n",
    "    \\text{var} \\, w_\\alpha = s^2 [(X^T X)^{-1}]_{\\alpha \\alpha}\n",
    "$$\n",
    "И оценкой погрешности будет\n",
    "$$\n",
    "    \\text{погрешность} \\, w_\\alpha \\approx \\sqrt{\\text{var} \\, w_\\alpha} = s \\sqrt{[(X^T X)^{-1}]_{\\alpha \\alpha}}\n",
    "$$\n",
    "\n",
    "\n",
    "Для учета погрешности полезно вычислить матрицу $(X^T X)^{-1}$"
   ]
  },
  {
   "cell_type": "code",
   "execution_count": 17,
   "metadata": {},
   "outputs": [],
   "source": [
    "XTXinv = np.linalg.inv(X.T @ X)"
   ]
  },
  {
   "cell_type": "code",
   "execution_count": 18,
   "metadata": {},
   "outputs": [
    {
     "name": "stdout",
     "output_type": "stream",
     "text": [
      "Погрешность параметров (w1, w0) = s *  (0.19389168358237027, 0.6051160331158266)\n"
     ]
    }
   ],
   "source": [
    "print('Погрешность параметров (w1, w0) = s * ', (np.sqrt(XTXinv[0, 0]), np.sqrt(XTXinv[1, 1])))"
   ]
  },
  {
   "cell_type": "markdown",
   "metadata": {},
   "source": [
    "# 2. Регрессия рядом Тейлора\n",
    "\n",
    "Зададим функцию \n",
    "\n",
    "Сгенерируем точки $(x_i, y_i)$ по закону\n",
    "$$ y = \\frac{e^{10x} \\, sin(10x)}{10+(10x)^2+(10x)} \\cdot \\frac{1}{1+100x} + \\epsilon $$\n",
    "где $\\epsilon$ - случайная величина из нормального распределения, моделирующая разброс точек. \n",
    "Пусть $\\epsilon \\sim \\mathcal{N}(0, 0.03)$"
   ]
  },
  {
   "cell_type": "code",
   "execution_count": 225,
   "metadata": {},
   "outputs": [
    {
     "data": {
      "image/png": "[encoded data removed]",
      "text/plain": [
       "<Figure size 432x288 with 1 Axes>"
      ]
     },
     "metadata": {
      "needs_background": "light"
     },
     "output_type": "display_data"
    }
   ],
   "source": [
    "x_train = np.linspace(0, 1, 50).reshape((-1, 1))\n",
    "noise = np.random.normal(0, 0.03, size=x_train.shape)\n",
    "y_train = np.exp(10*x_train)*np.sin(10*x_train)/(10 + (10*x_train)**2 + (10*x_train))*1/(1+100*x_train) + noise\n",
    "\n",
    "plt.scatter(x_train, y_train)\n",
    "plt.plot(x_train, y_train - noise, c='r')\n",
    "plt.show()"
   ]
  },
  {
   "cell_type": "markdown",
   "metadata": {},
   "source": [
    "Постараемся найти аппроксимацию к данной кривой. Искать будем в виде суммы одночленов степени до M включительно методом линейной регрессии. Тогда матрица Объекты-Признаки должна выглядеть как\n",
    "\n",
    "$$\n",
    "\\left(\\begin{array}{ccccc}\n",
    "1 & x_1 & x_1^2 & \\ldots & x_1^M \\\\\n",
    "1 & x_2 & x_2^2 & \\ldots & x_2^M \\\\\n",
    "\\ldots & \\ldots & \\ldots & \\ldots & \\ldots \\\\\n",
    "1 & x_N & x_N^2 & \\ldots & x_N^M\n",
    "\\end{array}\\right)\n",
    "$$\n"
   ]
  },
  {
   "cell_type": "code",
   "execution_count": 237,
   "metadata": {},
   "outputs": [
    {
     "data": {
      "text/plain": [
       "(-1.0, 0.6)"
      ]
     },
     "execution_count": 237,
     "metadata": {},
     "output_type": "execute_result"
    },
    {
     "data": {
      "image/png": "[encoded data removed]",
      "text/plain": [
       "<Figure size 432x288 with 1 Axes>"
      ]
     },
     "metadata": {
      "needs_background": "light"
     },
     "output_type": "display_data"
    }
   ],
   "source": [
    "def x_pow_k(x, k):\n",
    "    return x**k\n",
    "\n",
    "def model_predict(x, w):\n",
    "    deg = len(w) - 1\n",
    "    \n",
    "    X = np.ones(x.shape)\n",
    "\n",
    "    for k in range(1, deg+1):\n",
    "        X = np.concatenate([X, x_pow_k(x, k)], axis = 1)\n",
    "        \n",
    "    return X @ w\n",
    "\n",
    "M = 50\n",
    "\n",
    "X = np.ones(x_train.shape)\n",
    "\n",
    "for k in range(1, M+1):\n",
    "    X = np.concatenate([X, x_pow_k(x_train, k)], axis = 1)\n",
    "    \n",
    "# Вычисляем столбец коэффицентов регрессии\n",
    "\n",
    "w = np.linalg.pinv(X) @ y_train\n",
    "\n",
    "# Смотрим предсказания модели\n",
    "\n",
    "x_dens = np.linspace(0, 1, 500).reshape((-1, 1))\n",
    "\n",
    "plt.scatter(x_train, y_train)\n",
    "plt.plot(x_dens, model_predict(x_dens, w), c=\"r\")\n",
    "\n",
    "plt.ylim([-1, 0.6])"
   ]
  },
  {
   "cell_type": "markdown",
   "metadata": {},
   "source": [
    "Мы поняли, что при больших M модель становится хуже! Это называется переобучение. Построим график зависимости MSE Loss от степени фита M, чтобы понять, какая модель лучше."
   ]
  },
  {
   "cell_type": "code",
   "execution_count": 233,
   "metadata": {},
   "outputs": [],
   "source": [
    "def MSE(Y_predict, Y_label):\n",
    "    return ((Y_predict - Y_label)**2).mean()\n",
    "\n",
    "def Model(M, x_train, y_train):\n",
    "    X = np.ones(x_train.shape)\n",
    "\n",
    "    for k in range(1, M+1):\n",
    "        X = np.concatenate([X, x_pow_k(x_train, k)], axis = 1)\n",
    "\n",
    "    # Вычисляем столбец коэффицентов регрессии\n",
    "\n",
    "    w = np.linalg.pinv(X) @ y_train\n",
    "\n",
    "    # Смотрим предсказания модели\n",
    "\n",
    "    y_predict = X @ w\n",
    "\n",
    "    return y_predict"
   ]
  },
  {
   "cell_type": "code",
   "execution_count": 234,
   "metadata": {},
   "outputs": [
    {
     "data": {
      "text/plain": [
       "[<matplotlib.lines.Line2D at 0x23e9637fca0>]"
      ]
     },
     "execution_count": 234,
     "metadata": {},
     "output_type": "execute_result"
    },
    {
     "data": {
      "image/png": "[encoded data removed]",
      "text/plain": [
       "<Figure size 432x288 with 1 Axes>"
      ]
     },
     "metadata": {
      "needs_background": "light"
     },
     "output_type": "display_data"
    }
   ],
   "source": [
    "Ms = np.arange(0, 200, 1)\n",
    "losses = [MSE(Model(m, x_train, y_train), y_train) for m in Ms]\n",
    "\n",
    "plt.semilogy(Ms, losses)"
   ]
  },
  {
   "cell_type": "markdown",
   "metadata": {},
   "source": [
    "Как же так? Предсказание всё лучше и лучше, а кривая просто ужасна!\n",
    "\n",
    "Суть в том, что при обучении, модель как бы \"выучивает\" обучающую выборку, но никакой аппроксимирующей силы не имеет. \n",
    "\n",
    "Для решения вопроса о наилучшей модели необходимо часть исходной выборки пожерствовать на тестирование - на этой части мы будем проверять ошибку, а при обучении она использоваться не будет."
   ]
  },
  {
   "cell_type": "code",
   "execution_count": 250,
   "metadata": {
    "scrolled": true
   },
   "outputs": [
    {
     "name": "stdout",
     "output_type": "stream",
     "text": [
      "Minimum MSE = 0.0007439840868843762, with M = 144\n"
     ]
    },
    {
     "data": {
      "image/png": "[encoded data removed]",
      "text/plain": [
       "<Figure size 432x288 with 1 Axes>"
      ]
     },
     "metadata": {
      "needs_background": "light"
     },
     "output_type": "display_data"
    }
   ],
   "source": [
    "def Model_validation(M, x_train, y_train, x_to_predict):\n",
    "    X = np.ones(x_train.shape)\n",
    "\n",
    "    for k in range(1, M+1):\n",
    "        X = np.concatenate([X, x_pow_k(x_train, k)], axis = 1)\n",
    "\n",
    "    # Вычисляем столбец коэффицентов регрессии\n",
    "\n",
    "    w = np.linalg.pinv(X) @ y_train\n",
    "\n",
    "    # Смотрим предсказания модели\n",
    "\n",
    "    X = np.ones(x_to_predict.shape)\n",
    "\n",
    "    for k in range(1, M+1):\n",
    "        X = np.concatenate([X, x_pow_k(x_to_predict, k)], axis = 1)\n",
    "        \n",
    "    y_predict = X @ w\n",
    "\n",
    "    return y_predict\n",
    "\n",
    "x = np.linspace(0, 1, 500).reshape((-1, 1))\n",
    "noise = np.random.normal(0, 0.03, size=x.shape)\n",
    "y = np.exp(10*x)*np.sin(10*x)/(10 + (10*x)**2 + (10*x))/(1+100*x) + noise\n",
    "\n",
    "\n",
    "from sklearn import model_selection as ms\n",
    "x_train, x_test, y_train, y_test = ms.train_test_split(x, y, test_size=0.3)\n",
    "\n",
    "Ms = np.arange(0, 200, 1)\n",
    "losses = [MSE(Model_validation(m, x_train, y_train, x_test), y_test) for m in Ms]\n",
    "\n",
    "plt.semilogy(Ms, losses)\n",
    "print(f\"Minimum MSE = {min(losses)}, with M = {np.argmin(losses)}\")"
   ]
  },
  {
   "cell_type": "markdown",
   "metadata": {},
   "source": [
    "А ещё лучше делать кроссвалидацию методом KFold - разбиваем всю выборку на K частей - на K-1 обучаем, на оставашейся делаем тест. Повторить, пока все элементы выборки не побывают в тесте, после чего выбрать наилучшую модель."
   ]
  },
  {
   "cell_type": "markdown",
   "metadata": {},
   "source": [
    "# 3. Линейная регрессия в sklearn\n"
   ]
  },
  {
   "cell_type": "markdown",
   "metadata": {},
   "source": [
    "С помощью sklearn можно легко генерировать матрицу Объекты-Признаки со степенями"
   ]
  },
  {
   "cell_type": "code",
   "execution_count": 270,
   "metadata": {},
   "outputs": [
    {
     "name": "stdout",
     "output_type": "stream",
     "text": [
      "[[1]\n",
      " [2]\n",
      " [3]\n",
      " [4]]\n",
      "[[ 1.  1.  1.]\n",
      " [ 1.  2.  4.]\n",
      " [ 1.  3.  9.]\n",
      " [ 1.  4. 16.]]\n",
      "['1' 'x0' 'x0^2']\n",
      "-------------------\n",
      "[[ 1 -1]\n",
      " [ 2 -2]\n",
      " [ 3 -3]\n",
      " [ 4 -4]]\n",
      "[[  1.   1.  -1.   1.  -1.   1.]\n",
      " [  1.   2.  -2.   4.  -4.   4.]\n",
      " [  1.   3.  -3.   9.  -9.   9.]\n",
      " [  1.   4.  -4.  16. -16.  16.]]\n",
      "['1' 'x0' 'x1' 'x0^2' 'x0 x1' 'x1^2']\n"
     ]
    }
   ],
   "source": [
    "# PolynomialFeatures\n",
    "\n",
    "x = np.arange(1, 5, 1).reshape((-1, 1))\n",
    "\n",
    "from sklearn.preprocessing import PolynomialFeatures\n",
    "\n",
    "poly = PolynomialFeatures(2)\n",
    "\n",
    "X = poly.fit_transform(x) \n",
    "\n",
    "print(x)\n",
    "print(X)\n",
    "\n",
    "print(poly.get_feature_names_out()) # имена столбцов\n",
    "\n",
    "print(\"-------------------\")\n",
    "\n",
    "#Также легко генерировать полиномиальный базис для больший размерностей изначального х\n",
    "\n",
    "x1 = np.arange(1, 5, 1).reshape((-1, 1))\n",
    "x2 = np.arange(-1, -5, -1).reshape((-1, 1))\n",
    "x = np.hstack([x1, x2])\n",
    "\n",
    "poly = PolynomialFeatures(2)\n",
    "\n",
    "X = poly.fit_transform(x) \n",
    "\n",
    "print(x)\n",
    "print(X)\n",
    "\n",
    "print(poly.get_feature_names_out()) # имена столбцов"
   ]
  },
  {
   "cell_type": "markdown",
   "metadata": {},
   "source": [
    "__Задание__ - переписать следующую ячейку, чтобы фитилось многочленами нечётных степеней до M включительно и построить график loss от M. Матрицу Объекты-Признаки генерировать с помощью PolynomialFeatures"
   ]
  },
  {
   "cell_type": "code",
   "execution_count": null,
   "metadata": {},
   "outputs": [],
   "source": [
    "# LinearRegression - фитит зависимость по матрице Объекты-Признаки X и целевых Y \n",
    "\n",
    "x = np.linspace(0, 1, 500).reshape((-1, 1))\n",
    "noise = np.random.normal(0, 0.03, size=x.shape)\n",
    "y = np.exp(10*x)*np.sin(10*x)/(10 + (10*x)**2 + (10*x))/(1+100*x) + noise\n",
    "\n",
    "x_train, x_test, y_train, y_test = ms.train_test_split(x, y, test_size=0.3)\n",
    "\n",
    "from sklearn import linear_model as lm\n",
    "\n",
    "lin_reg = lm.LinearRegression()\n",
    "\n",
    "\n",
    "lin_reg.fit(x_train, y_train) \n",
    "# В данном случае вместо матрицы объекты-признаки подал просто тестовую выборку -> будет лин. апрр.\n",
    "# Он автоматически прибавил единичный столбей свободных сленов в начале. Можно и отключить эту прибавку через fit_intercept=False\n",
    "\n",
    "\n",
    "y_predict = lin_reg.predict(x_test)\n",
    "\n",
    "loss = np.mean((y_predict - y_test)**2)\n",
    "print(\"loss = \", loss)\n",
    "\n",
    "print(lin_reg.coef_) # коэффициенты перед признаками без 1\n",
    "print(lin_reg.intercept_) # коэффициенты перед 1 (свободным членом)"
   ]
  }
 ],
 "metadata": {
  "hide_input": false,
  "kernelspec": {
   "display_name": "Python 3 (ipykernel)",
   "language": "python",
   "name": "python3"
  },
  "language_info": {
   "codemirror_mode": {
    "name": "ipython",
    "version": 3
   },
   "file_extension": ".py",
   "mimetype": "text/x-python",
   "name": "python",
   "nbconvert_exporter": "python",
   "pygments_lexer": "ipython3",
   "version": "3.8.10"
  }
 },
 "nbformat": 4,
 "nbformat_minor": 2
}
