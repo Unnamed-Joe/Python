{
 "cells": [
  {
   "cell_type": "code",
   "execution_count": 4,
   "metadata": {},
   "outputs": [],
   "source": [
    "import random\n",
    "import matplotlib.pyplot as plt\n",
    "import numpy as np\n",
    "from scipy.optimize import minimize"
   ]
  },
  {
   "cell_type": "markdown",
   "metadata": {
    "id": "PUAAVHzFH8Sr"
   },
   "source": [
    "## Задача 1.  МНК (2 балла)."
   ]
  },
  {
   "cell_type": "markdown",
   "metadata": {
    "id": "nOnCYLzAIPAK"
   },
   "source": [
    "Ниже приведен код, генерирующий набор данных на python. \n",
    "Он описывает процесс измерения термометром температуры печи. "
   ]
  },
  {
   "cell_type": "code",
   "execution_count": 3,
   "metadata": {
    "colab": {
     "base_uri": "https://localhost:8080/",
     "height": 300
    },
    "id": "mgGJbDw4HxJu",
    "outputId": "ad7828fe-5942-442d-bff5-d547eb01f2e3"
   },
   "outputs": [
    {
     "data": {
      "text/plain": [
       "Text(0, 0.5, 'y (оценка температуры)')"
      ]
     },
     "execution_count": 3,
     "metadata": {},
     "output_type": "execute_result"
    },
    {
     "data": {
      "image/png": "[encoded data removed]",
      "text/plain": [
       "<Figure size 432x288 with 1 Axes>"
      ]
     },
     "metadata": {
      "needs_background": "light"
     },
     "output_type": "display_data"
    }
   ],
   "source": [
    "def datasets_make_regression(coef, data_size, noise_sigma, random_state):\n",
    "    x = np.arange(0, data_size, 1.)\n",
    "    mu = 0.0\n",
    "    random.seed(random_state)\n",
    "    noise = np.empty((data_size, 1))\n",
    "    y = np.empty((data_size, 1))\n",
    "\n",
    "    for i in range(data_size):\n",
    "        noise[i] = random.gauss(mu, noise_sigma)\n",
    "        y[i] = coef[0] + coef[1]*x[i] + noise[i]\n",
    "\n",
    "    return x, y\n",
    "\n",
    "coef_true = [34.2, 2.] # весовые коэффициенты\n",
    "data_size = 200 # размер генерируемого набора данных\n",
    "noise_sigma = 10 # СКО шума в данных\n",
    "random_state = 42\n",
    "x_scale, y_estimate = datasets_make_regression(coef_true, data_size, noise_sigma, random_state)\n",
    "\n",
    "plt.plot(x_scale, y_estimate, 'o') \n",
    "plt.xlabel('x (порядковый номер измерения)', fontsize=14)\n",
    "plt.ylabel('y (оценка температуры)', fontsize=14)"
   ]
  },
  {
   "cell_type": "markdown",
   "metadata": {
    "id": "kOu5GP8bH7lE"
   },
   "source": [
    "Напишите функцию, которая строит уравнение линейной регрессии $y = w_1^*x+w_0^*$ и наносит его на график вместе с данными. Нахождение коэффициентов $w_0^*$ и $w_1^*$ сводится к нахождению экстремума функции двух переменных\n",
    "$$\n",
    "Q\\left(w_0^*, w_1^*, x\\right)=\\frac{1}{n} \\sum_{i=1}^n\\left(w_0^*+w_1^* x_i-y_i\\right)^2 .\n",
    "$$\n",
    "Решать задачу по следующему алгоритму:\n",
    "- найти частные производные функции $Q\\left(w_0^*, w_1^*, x\\right)$ по искомым $w_0^*, w_1^*$;\n",
    "- приравнять полученные выражения к нулю;\n",
    "- решить полученную систему из двух уравнений с двумя неизвестными.\n",
    "Решение полученной системы уравнений и будет являться искомыми параметрами модели."
   ]
  },
  {
   "cell_type": "markdown",
   "metadata": {},
   "source": [
    "$$\n",
    "\\frac{\\partial Q}{\\partial w^*_0} = \\frac{2}{n}\\sum_{i=1}^n(w_0^*+w_1^* x_i-y_i) = 0\n",
    "$$\n",
    "\n",
    "$$\n",
    "\\frac{\\partial Q}{\\partial w^*_1} = \\frac{2}{n}\\sum_{i=1}^n(w_0^*+w_1^* x_i-y_i)x_i = 0\n",
    "$$\n",
    "Then ($\\mu$ = mean)\n",
    "$$\n",
    "w_1^*(\\mu(x^2) - \\mu(x)^2) = \\mu(xy) - \\mu(x)\\mu(y)\n",
    "$$\n",
    "$$\n",
    "w_0^* = \\mu(y) - w_1^*\\mu(x)\n",
    "$$"
   ]
  },
  {
   "cell_type": "code",
   "execution_count": 6,
   "metadata": {},
   "outputs": [
    {
     "data": {
      "text/plain": [
       "0.0"
      ]
     },
     "execution_count": 6,
     "metadata": {},
     "output_type": "execute_result"
    }
   ],
   "source": [
    "w_1 = (np.mean(x_scale*y_estimate) - np.mean(x_scale)*np.mean(y_estimate))/(np.mean(x_scale**2) - np.mean(x_scale)**2)\n",
    "w_1"
   ]
  },
  {
   "cell_type": "code",
   "execution_count": 9,
   "metadata": {},
   "outputs": [
    {
     "data": {
      "text/plain": [
       "234.3612962831703"
      ]
     },
     "execution_count": 9,
     "metadata": {},
     "output_type": "execute_result"
    }
   ],
   "source": [
    "w_0 = np.mean(y_estimate)\n",
    "w_0"
   ]
  },
  {
   "cell_type": "code",
   "execution_count": 12,
   "metadata": {},
   "outputs": [
    {
     "data": {
      "text/plain": [
       "      fun: 544380315.5569909\n",
       " hess_inv: array([[ 4.96268705e-05, -3.73134318e-07],\n",
       "       [-3.73134318e-07,  3.75009333e-09]])\n",
       "      jac: array([0., 0.])\n",
       "  message: 'Optimization terminated successfully.'\n",
       "     nfev: 18\n",
       "      nit: 4\n",
       "     njev: 6\n",
       "   status: 0\n",
       "  success: True\n",
       "        x: array([2.34361279e+02, 1.30851099e-07])"
      ]
     },
     "execution_count": 12,
     "metadata": {},
     "output_type": "execute_result"
    }
   ],
   "source": [
    "n = data_size\n",
    "\n",
    "fun = lambda w: np.sum((np.ones(n)*w[0] + w[1]*x_scale - y_estimate)**2)\n",
    "res = minimize(fun, [0,0])\n",
    "res"
   ]
  },
  {
   "cell_type": "markdown",
   "metadata": {
    "id": "wLZObfedJucM"
   },
   "source": [
    "## Задача 2. Нелинейные уравнения и системы (2 балла). "
   ]
  },
  {
   "cell_type": "markdown",
   "metadata": {
    "id": "TPgd9ua-J1gj"
   },
   "source": [
    "Найдите корни полинома $x^4 + 9 x^2+11 x-20$.\n",
    "Какую (приблизительно) долю площади на комплексной плоскости от квадрата  $|Rez|<4,  |Imz|<4$ занимает область притяжения наибольшего корня по модулю? Решить перебором точек.  \n",
    "Можете использовать следующий код:\n"
   ]
  },
  {
   "cell_type": "code",
   "execution_count": 2,
   "metadata": {
    "colab": {
     "base_uri": "https://localhost:8080/",
     "height": 248
    },
    "id": "d5H0rxMSJrzq",
    "outputId": "fd474ed0-5630-408c-ab70-3fe60b80acca"
   },
   "outputs": [
    {
     "data": {
      "image/png": "[encoded data removed]",
      "text/plain": [
       "<Figure size 432x288 with 1 Axes>"
      ]
     },
     "metadata": {
      "needs_background": "light"
     },
     "output_type": "display_data"
    }
   ],
   "source": [
    "from scipy import optimize\n",
    "import numpy as np\n",
    "import matplotlib.pyplot as plt\n",
    "from matplotlib.colors import ListedColormap\n",
    "\n",
    "\n",
    "# A list of colors to distinguish the roots.\n",
    "colors = ['b', 'r', 'g', 'y']\n",
    "\n",
    "TOL = 1.e-8\n",
    "\n",
    "def newton(z0, f, fprime, MAX_IT=1000):\n",
    "    \"\"\"The Newton-Raphson method applied to f(z).\n",
    "\n",
    "    Returns the root found, starting with an initial guess, z0, or False\n",
    "    if no convergence to tolerance TOL was reached within MAX_IT iterations.\n",
    "\n",
    "    \"\"\"\n",
    "\n",
    "    z = z0\n",
    "    try:\n",
    "      z = optimize.newton(f, z0, fprime)\n",
    "      return z\n",
    "    except:\n",
    "      return False\n",
    "\n",
    "def plot_newton_fractal(f, fprime, n=200, domain=(-4, 4, -4, 4)):\n",
    "    \"\"\"Plot a Newton Fractal by finding the roots of f(z).\n",
    "\n",
    "    The domain used for the fractal image is the region of the complex plane\n",
    "    (xmin, xmax, ymin, ymax) where z = x + iy, discretized into n values along\n",
    "    each axis.\n",
    "\n",
    "    \"\"\"\n",
    "\n",
    "    roots = []\n",
    "    m = np.zeros((n, n))\n",
    "\n",
    "    def get_root_index(roots, r):\n",
    "        \"\"\"Get the index of r in the list roots.\n",
    "\n",
    "        If r is not in roots, append it to the list.\n",
    "\n",
    "        \"\"\"\n",
    "\n",
    "        try:\n",
    "            return np.where(np.isclose(roots, r, atol=TOL))[0][0]\n",
    "        except IndexError:\n",
    "            roots.append(r)\n",
    "            return len(roots) - 1\n",
    "\n",
    "    xmin, xmax, ymin, ymax = domain\n",
    "    for ix, x in enumerate(np.linspace(xmin, xmax, n)):\n",
    "        for iy, y in enumerate(np.linspace(ymin, ymax, n)):\n",
    "            z0 = x + y*1j\n",
    "            r = newton(z0, f, fprime)\n",
    "            if r is not False:\n",
    "                ir = get_root_index(roots, r)\n",
    "                m[iy, ix] = ir\n",
    "    nroots = len(roots)\n",
    "    if nroots > len(colors):\n",
    "        # Use a \"continuous\" colormap if there are too many roots.\n",
    "        cmap = 'hsv'\n",
    "    else:\n",
    "        # Use a list of colors for the colormap: one for each root.\n",
    "        cmap = ListedColormap(colors[:nroots])\n",
    "    plt.imshow(m, cmap=cmap, origin='lower')\n",
    "    plt.axis('off')\n",
    "    plt.show()\n",
    "\n",
    "f = lambda z: z**4 + 9*z*z + 11*z - 20\n",
    "fprime = lambda z: 4*z**3 + 18*z + 11\n",
    "\n",
    "plot_newton_fractal(f, fprime, n=200)"
   ]
  },
  {
   "cell_type": "code",
   "execution_count": null,
   "metadata": {
    "id": "jsSciYTNNYLL"
   },
   "outputs": [],
   "source": []
  },
  {
   "cell_type": "markdown",
   "metadata": {
    "id": "ymMfYRc1NKjx"
   },
   "source": [
    "## Задача 3. Разделение переменных с помощью SVD (3 балла)."
   ]
  },
  {
   "cell_type": "markdown",
   "metadata": {
    "id": "ikm9PkKdYzi5"
   },
   "source": [
    "Рассмотрим функцию  \n",
    "\n",
    "$$\n",
    "f(x,y) = 2*x^2*sin(y) + cos(x)*y + e^x*ln(1+y^2)\n",
    "$$\n",
    "\n",
    "Постройте для этой функции матрицу значений в квадрате \n",
    "$$\n",
    "х ∈ [-10, 10], y ∈ [-10, 10]\n",
    "$$  \n",
    "\n",
    "В качестве шага можно взять 0.1,  получится матрица размером 101*101.\n",
    "Визуализируйте её малоранговые приближения с помощью SVD при r = 1, 2, 3.\n",
    "\n",
    "При каком r приближение будет точным? \n",
    "\n",
    "Напишите функцию, которая визуализирует саму матрицу, её малоранговые приближения и выводит значение относительной ошибки при каждом r: \n",
    "$$\n",
    "\\delta_{\\mathrm{err}}=\\frac{\\sqrt{\\sum_{i j}\\left(A_{i j}-h_i \\eta_j\\right)^2}}{\\sqrt{\\sum_{i j} A_{i j}^2}}\n",
    "$$"
   ]
  },
  {
   "cell_type": "markdown",
   "metadata": {
    "id": "9XY1FeZhg2z5"
   },
   "source": [
    "## Задача 4. Уменьшение размерности массива данных (3 балла)."
   ]
  },
  {
   "cell_type": "markdown",
   "metadata": {
    "id": "AP55xhFlhN0H"
   },
   "source": [
    "Эти рисунки помогают проиллюстрировать, как облако точек может быть очень плоским в одном направлении - именно здесь PCA помогает выбрать направление, которое не является плоским.\n",
    "\n"
   ]
  },
  {
   "cell_type": "code",
   "execution_count": 3,
   "metadata": {
    "colab": {
     "base_uri": "https://localhost:8080/",
     "height": 494
    },
    "id": "tnuyYZEoLJe1",
    "outputId": "09eecaaa-9ce6-417b-c16d-00f506745f4c"
   },
   "outputs": [
    {
     "name": "stdout",
     "output_type": "stream",
     "text": [
      "Automatically created module for IPython interactive environment\n"
     ]
    },
    {
     "name": "stderr",
     "output_type": "stream",
     "text": [
      "C:\\Users\\rfrel\\AppData\\Local\\Temp\\ipykernel_18340\\3722797138.py:50: MatplotlibDeprecationWarning: Axes3D(fig) adding itself to the figure is deprecated since 3.4. Pass the keyword argument auto_add_to_figure=False and use fig.add_axes(ax) to suppress this warning. The default value of auto_add_to_figure will change to False in mpl3.5 and True values will no longer work in 3.6.  This is consistent with other Axes classes.\n",
      "  ax = Axes3D(fig, rect=[0, 0, .95, 1], elev=elev, azim=azim)\n",
      "C:\\Users\\rfrel\\AppData\\Local\\Temp\\ipykernel_18340\\3722797138.py:50: MatplotlibDeprecationWarning: Axes3D(fig) adding itself to the figure is deprecated since 3.4. Pass the keyword argument auto_add_to_figure=False and use fig.add_axes(ax) to suppress this warning. The default value of auto_add_to_figure will change to False in mpl3.5 and True values will no longer work in 3.6.  This is consistent with other Axes classes.\n",
      "  ax = Axes3D(fig, rect=[0, 0, .95, 1], elev=elev, azim=azim)\n"
     ]
    },
    {
     "data": {
      "image/png": "[encoded data removed]",
      "text/plain": [
       "<Figure size 288x216 with 1 Axes>"
      ]
     },
     "metadata": {
      "needs_background": "light"
     },
     "output_type": "display_data"
    },
    {
     "data": {
      "image/png": "[encoded data removed]",
      "text/plain": [
       "<Figure size 288x216 with 1 Axes>"
      ]
     },
     "metadata": {
      "needs_background": "light"
     },
     "output_type": "display_data"
    }
   ],
   "source": [
    "print(__doc__)\n",
    "\n",
    "# Authors: Gael Varoquaux\n",
    "#          Jaques Grobler\n",
    "#          Kevin Hughes\n",
    "# License: BSD 3 clause\n",
    "\n",
    "from sklearn.decomposition import PCA\n",
    "\n",
    "from mpl_toolkits.mplot3d import Axes3D\n",
    "import numpy as np\n",
    "import matplotlib.pyplot as plt\n",
    "from scipy import stats\n",
    "\n",
    "\n",
    "# #############################################################################\n",
    "# Create the data\n",
    "\n",
    "e = np.exp(1)\n",
    "np.random.seed(4)\n",
    "\n",
    "\n",
    "def pdf(x):\n",
    "    return 0.5 * (stats.norm(scale=0.25 / e).pdf(x)\n",
    "                  + stats.norm(scale=4 / e).pdf(x))\n",
    "\n",
    "y = np.random.normal(scale=0.5, size=(30000))\n",
    "x = np.random.normal(scale=0.5, size=(30000))\n",
    "z = np.random.normal(scale=0.1, size=len(x))\n",
    "\n",
    "density = pdf(x) * pdf(y)\n",
    "pdf_z = pdf(5 * z)\n",
    "\n",
    "density *= pdf_z\n",
    "\n",
    "a = x + y\n",
    "b = 2 * y\n",
    "c = a - b + z\n",
    "\n",
    "norm = np.sqrt(a.var() + b.var())\n",
    "a /= norm\n",
    "b /= norm\n",
    "\n",
    "\n",
    "# #############################################################################\n",
    "# Plot the figures\n",
    "def plot_figs(fig_num, elev, azim):\n",
    "    fig = plt.figure(fig_num, figsize=(4, 3))\n",
    "    plt.clf()\n",
    "    ax = Axes3D(fig, rect=[0, 0, .95, 1], elev=elev, azim=azim)\n",
    "\n",
    "    ax.scatter(a[::10], b[::10], c[::10], c=density[::10], marker='+', alpha=.4)\n",
    "    Y = np.c_[a, b, c]\n",
    "\n",
    "    # Using SciPy's SVD, this would be:\n",
    "    # _, pca_score, Vt = scipy.linalg.svd(Y, full_matrices=False)\n",
    "\n",
    "    pca = PCA(n_components=3)\n",
    "    pca.fit(Y)\n",
    "    V = pca.components_.T\n",
    "\n",
    "    x_pca_axis, y_pca_axis, z_pca_axis = 3 * V\n",
    "    x_pca_plane = np.r_[x_pca_axis[:2], - x_pca_axis[1::-1]]\n",
    "    y_pca_plane = np.r_[y_pca_axis[:2], - y_pca_axis[1::-1]]\n",
    "    z_pca_plane = np.r_[z_pca_axis[:2], - z_pca_axis[1::-1]]\n",
    "    x_pca_plane.shape = (2, 2)\n",
    "    y_pca_plane.shape = (2, 2)\n",
    "    z_pca_plane.shape = (2, 2)\n",
    "    ax.plot_surface(x_pca_plane, y_pca_plane, z_pca_plane)\n",
    "    ax.w_xaxis.set_ticklabels([])\n",
    "    ax.w_yaxis.set_ticklabels([])\n",
    "    ax.w_zaxis.set_ticklabels([])\n",
    "\n",
    "\n",
    "elev = -40\n",
    "azim = -80\n",
    "plot_figs(1, elev, azim)\n",
    "\n",
    "elev = 30\n",
    "azim = 20\n",
    "plot_figs(2, elev, azim)\n",
    "\n",
    "plt.show()"
   ]
  },
  {
   "cell_type": "markdown",
   "metadata": {
    "id": "Skl2jV57hXkg"
   },
   "source": [
    "Используя этот код, можно уменьшить размерность представления данных. Например, все планеты обращаются вокруг Солнца, находясь в одной плоскости. Из планет Солнечной системы наиболее наклонена к плоскости орбита Меркурия – до 7 угловых градусов. Будем использовать следующие данные:\n",
    "\n",
    "\\begin{array}{rrrr}\n",
    "\\text { Mercury } & 6.3^{\\circ} & \\text { Uranus } & 1.0^{\\circ} \\\\\n",
    "\\text { Venus } & 2.2^{\\circ} & \\text { Saturn } & 0.9^{\\circ} \\\\\n",
    "\\text { Mars } & 1.7^{\\circ} & \\text { Neptune } & 0.7^{\\circ} \\\\\n",
    "\\text { Earth } & 1.6^{\\circ} & \\text { Jupiter } & 0.3^{\\circ}\n",
    "\\end{array}\n",
    "\n",
    "Пусть эта плоскость - Oxy, предположим, они вращаются все по круговым орбитам вокруг начала координат (эксцентриситеты планет малы). \n",
    "Сгенерируйте случайным образом направления плоскостей орбит с заданным наклоном, нанесите на них по 36 положений каждой планеты (равномерно по углам на орбите). После этого пересчитайте координаты всех планет, совершив поворот системы координат вокруг оси с направляющими косинусами ($1/2, 1/2, 2^{0.5}/2)$ на случайный угол. Сделать это можно умножением на матрицу поворота.\n",
    "\n",
    "После этого визуализируйте получившиеся положения планет. С помощью SVD и выше приведенного кода постройте плоскость, в которой они все приблизительно находятся, визуализируйте это также, как в примере выше.\n",
    "\n",
    "\n",
    "\n",
    "\n",
    "\n"
   ]
  },
  {
   "cell_type": "markdown",
   "metadata": {
    "id": "1flZOLRhqKDy"
   },
   "source": [
    "Для вычисления матрицы поворота будем использовать явное её выражение через параметры кватерниона. Здесь М - матрица поворота.\n",
    "\n",
    "$$\n",
    "M=\\left(\\begin{array}{ccc}\n",
    "1-2 \\cdot \\lambda_y{ }^2-2 \\cdot \\lambda_z{ }^2 & 2 \\cdot \\lambda_x \\cdot \\lambda_y-2 \\cdot \\lambda_z \\cdot \\lambda_0 & 2 \\cdot \\lambda_x \\cdot \\lambda_z+2 \\cdot \\lambda_y \\cdot \\lambda_0 \\\\\n",
    "2 \\cdot \\lambda_x \\cdot \\lambda_y+2 \\cdot \\lambda_z \\cdot \\lambda_0 & 1-2 \\cdot \\lambda_x{ }^2-2 \\cdot \\lambda_z{ }^2 & 2 \\cdot \\lambda_y \\cdot \\lambda_z-2 \\cdot \\lambda_x \\cdot \\lambda_0 \\\\\n",
    "2 \\cdot \\lambda_x \\cdot \\lambda_z-2 \\cdot \\lambda_y \\cdot \\lambda_0 & 2 \\cdot \\lambda_y \\cdot \\lambda_z+2 \\cdot \\lambda_x \\cdot \\lambda_0 & 1-2 \\cdot \\lambda_x{ }^2-2 \\cdot \\lambda_y{ }^2\n",
    "\\end{array}\\right)\n",
    "$$\n",
    "\n",
    "Коэффициенты $\\lambda-$ это коэффициенты кватерниона поворота.\n",
    "\n",
    "$$\n",
    "\\Lambda=\\left\\{\\lambda_0, \\lambda_x, \\lambda_y, \\lambda_z\\right\\}=\\left\\{\\cos (\\varphi / 2) ; n_x \\sin (\\varphi / 2) ; n_y \\sin (\\varphi / 2) ; n_z \\sin (\\varphi / 2)\\right\\}\n",
    "$$\n",
    "\n",
    "Где $\\varphi-$ угол поворота (если отсчитывать против часовой стрелки, смотря с конца вектора оси поворота $), \\vec{n}=\\left(n_x ; n_y ; n_z\\right)$ направляющий вектор оси поворота."
   ]
  },
  {
   "cell_type": "code",
   "execution_count": null,
   "metadata": {},
   "outputs": [],
   "source": [
    "def gen_orbit(theta):\n",
    "    \n"
   ]
  },
  {
   "cell_type": "code",
   "execution_count": 1,
   "metadata": {},
   "outputs": [],
   "source": [
    "def rotate(phi, nx, ny, nz):\n",
    "    lambda0 = np.cos(phi/2)\n",
    "    lambda1 = nx*np.sin(phi/2)\n",
    "    lambda2 = ny*np.sin(phi/2)\n",
    "    lambda3 = nz*np.sin(phi/2)\n",
    "    \n",
    "    M = np.zeros((3,3))\n",
    "    M[0][0] = 1-2*lambda2**2 - 2*lambda3**2\n",
    "    M[1][1] = 1-2*lambda1**2 - 2*lambda3**2\n",
    "    M[2][2] = 1-2*lambda1**2 - 2*lambda2**2\n",
    "    \n",
    "    M[0][1] = 2*lambda1*lambda2 - 2*lambda3*lambda0\n",
    "    M[1][0] = 2*lambda1*lambda2 + 2*lambda3*lambda0\n",
    "    \n",
    "    M[0][2] = 2*lambda1*lambda3 + 2*lambda2*lambda0\n",
    "    M[2][0] = 2*lambda1*lambda3 - 2*lambda2*lambda0\n",
    "    \n",
    "    M[1][2] = 2*lambda2*lambda3 - 2*lambda1*lambda0\n",
    "    M[2][1] = 2*lambda2*lambda3 + 2*lambda1*lambda0\n",
    "    return M"
   ]
  },
  {
   "cell_type": "code",
   "execution_count": null,
   "metadata": {},
   "outputs": [],
   "source": []
  },
  {
   "cell_type": "code",
   "execution_count": null,
   "metadata": {},
   "outputs": [],
   "source": []
  },
  {
   "cell_type": "markdown",
   "metadata": {
    "id": "n-tcNpcDhSv3"
   },
   "source": [
    "## Дополнительная задача\n",
    "\n",
    "Зафитье следующий набор точек функцией двух переменных $\\check{y} = w_0*x_1^{w_1} + w_2*x_2^{w_3}$. \n",
    "\n",
    "Использовать метод нормального уравнения на всей выборке. Проверьте решение с помощью scipy.optimize.minimize. \n",
    "\n",
    "Примечание: Истинные значения $y$ заданы таблично. Иными словами, y[i, j] = y(x1[i], x2[j]). "
   ]
  },
  {
   "cell_type": "code",
   "execution_count": 4,
   "metadata": {},
   "outputs": [],
   "source": [
    "x1 = [-1.        , -0.89473684, -0.78947368, -0.68421053, -0.57894737,\n",
    "       -0.47368421, -0.36842105, -0.26315789, -0.15789474, -0.05263158,\n",
    "        0.05263158,  0.15789474,  0.26315789,  0.36842105,  0.47368421,\n",
    "        0.57894737,  0.68421053,  0.78947368,  0.89473684,  1.        ]\n",
    "\n",
    "x2 = [-1.        , -0.89473684, -0.78947368, -0.68421053, -0.57894737,\n",
    "       -0.47368421, -0.36842105, -0.26315789, -0.15789474, -0.05263158,\n",
    "        0.05263158,  0.15789474,  0.26315789,  0.36842105,  0.47368421,\n",
    "        0.57894737,  0.68421053,  0.78947368,  0.89473684,  1.        ]\n",
    "\n",
    "y = [[5.9853732499711265, 5.865789866416836, 5.174284164273347, 4.9704626334631845, 4.657639648305471, 4.547807476088728, 4.271333437004503, 4.171065127484184, 3.989743896107844, 3.9880181642941674, 4.1412128234354615, 4.205388810699425, 4.053043706136275, 4.0484800558530445, 4.5134813630463, 4.740737894752851, 4.833435075060348, 5.287087879049731, 5.575225835175481, 5.989053752181049], \n",
    "     [4.629984799251969, 4.170347789512635, 4.013308832971154, 3.5727597184962576, 3.266490419298868, 3.069241256030713, 2.860939937311909, 2.810563863207954, 2.581929003656242, 2.6132544573620016, 2.516317675663247, 2.517867955366339, 2.6549957252719083, 2.76925968199568, 3.1154639630779983, 3.0535877266019016, 3.609780737715269, 3.627881425384148, 4.32425586455224, 4.458314367751673], \n",
    "     [3.4459021754882464, 3.0217036929261516, 2.814806775183466, 2.599190408614827, 2.267837300684443, 2.1031830671136706, 1.8507888926545644, 1.747606694679917, 1.5849643613259756, 1.6078448951863067, 1.5607869280389546, 1.615690019318286, 1.6030494820527992, 1.8383336258474963, 1.8125778454635848, 2.407849238337345, 2.406336693614387, 2.965044973911943, 3.115351338511461, 3.471027710981127], \n",
    "     [2.944678467547528, 2.4237195088822134, 2.2398728484903514, 1.7247978496844905, 1.4790389728710873, 1.397185420216792, 1.1662348640973283, 0.9979658623256432, 0.9647092318681304, 0.8111211719312434, 0.9506574533738573, 1.0358099345415346, 0.8623579089433392, 1.3188709450557208, 1.336892611924, 1.6201359150196746, 1.8428011671527047, 1.9847131172087424, 2.360234373115426, 2.750257362921176], \n",
    "     [2.409179877541766, 2.0899553243680566, 1.6361631352053156, 1.2852719515975073, 1.1585330694245823, 0.8038724342672983, 0.7602404955994981, 0.6498083729522274, 0.5808535174556875, 0.5357179063245509, 0.23700140268140418, 0.49120370783494305, 0.5360844080880172, 0.7682017051611828, 0.9715419358055677, 1.3007828068974883, 1.3393714445753222, 1.8085589912399036, 1.9979062983773828, 2.4684679986669873], \n",
    "     [2.124498754967762, 1.6842007562532664, 1.4226157477788341, 1.0809543969618711, 0.9425826645525162, 0.6770766398306121, 0.3296473674760744, 0.3790873926456647, -0.025457979319227997, 0.24626205619764088, 0.2517626235814633, 0.22923613452412803, 0.16598369655765305, 0.3550158913914705, 0.5937327979763163, 0.8801949444147754, 1.220895852024079, 1.4923425518436475, 1.820431818903225, 2.192042104961805], \n",
    "     [2.2466002088471115, 1.81418814785323, 1.4072319207725117, 1.3187004791578432, 0.8221716050708784, 0.6410973972324926, 0.27574203110815276, 0.07231152299807725, 0.09250172941402207, -0.16418117610676022, -0.009658715526083772, 0.005286076951955099, 0.032336882673992984, 0.35005240748427074, 0.4828410681193157, 0.4993909863513306, 0.8474727256186446, 1.0795070163718226, 1.5163272012059057, 2.2033134198708533], \n",
    "     [2.101941698614266, 1.581124598523239, 1.2375395991993754, 0.8933949767080351, 0.7580711293195369, 0.5747392626479452, 0.31071179591354636, 0.1295868338594072, 0.04140216980222425, 0.0798109812699423, -0.3156003151585534, 0.06681023217078425, 0.3098448647851055, 0.28496029623900276, 0.3886203952885403, 0.8183481048275062, 0.8880448978377765, 1.1563732376728293, 1.657155240396205, 2.0661694296556563], \n",
    "     [1.789820880322701, 1.608803295015532, 1.3394338907513252, 0.9896469975021371, 0.6938545435683916, 0.2806900372559765, 0.2968988294946614, 0.19130172013364508, 0.2575780562866172, 0.07590407851726544, -0.09429374795062387, -0.06021297372577621, -0.10792446902636754, 0.20640667046638445, 0.28320613540380335, 0.7987621791226132, 0.8655120021109977, 1.2951299648484398, 1.7576219260884953, 1.9669878906819718], \n",
    "     [2.0379791408498633, 1.6717313793026756, 1.3058244901364024, 0.9963694538518021, 0.6108675651459672, 0.5213456481654339, 0.1547432921840537, 0.09323081306532421, -0.012282804497174699, -0.08660065079490563, -0.013298368830647556, 0.03978142782681865, 0.12277585362966423, 0.12947559641866982, 0.5669063182883496, 0.663857173288938, 0.7069368251829583, 1.2466893344801981, 1.7335948153724552, 2.031450439874861], \n",
    "     [1.9549956943647415, 1.730718471989771, 1.313733294775198, 1.055946982929327, 0.6411963543484467, 0.4666754808940343, 0.38163123226654744, 0.13781293958523003, 0.08700874567520987, -0.12203305157523175, -0.17398463161934055, 0.17921231433253648, 0.24410746042842615, 0.3774327427708879, 0.38718439852544867, 0.624472970211716, 1.1586763218068092, 1.246022795079127, 1.461957318163094, 2.0060801061313027], \n",
    "     [1.9110163365525372, 1.547106970428757, 1.2672251909094177, 0.9345612160736261, 0.725644970913722, 0.681896352300388, 0.33438303755852616, 0.05471586492988802, 0.03357644878994048, -0.18891353362355295, -0.05599910302085519, 0.17505795294111504, 0.039747426865249624, 0.23465627695893537, 0.43343934036159065, 0.7108282270883126, 0.9546538388201067, 1.2074584498214807, 1.5366635488936002, 2.1406504090966743], \n",
    "     [2.0608375056981045, 1.610180457005844, 1.3920684614686432, 1.0904687894461926, 0.6494128616718499, 0.43300256606938625, 0.3180993751918205, 0.23392362659044008, 0.011090322891716797, 0.03441213451563959, 0.02187003517143347, -0.0035476805051036925, 0.013217141453099823, 0.37411899811960775, 0.4789806779382149, 0.763869817900628, 0.9222403194971188, 1.4420919120050533, 1.577742401006313, 2.0010470423918485], \n",
    "     [2.0629864284477852, 1.6447668451960482, 1.228329769088664, 1.064086798609353, 0.8087205140056317, 0.5069210848249814, 0.4033535361956612, 0.14599861904863265, 0.08482373471694994, 0.051846592785767975, 0.054273496211535335, -0.04049259412856723, 0.2709741519418001, 0.4368424704790525, 0.3756986931928347, 0.8420162159403529, 0.9524384187522594, 1.4595558181048196, 1.703201825890182, 2.0378747672212265], \n",
    "     [2.3866294847196685, 1.8483449766015185, 1.5211916853257643, 1.0637864909650965, 0.8967244828420617, 0.5783920846905054, 0.3107399324025623, 0.23044042973228718, 0.372576917242524, 0.2425880697976912, 0.2774387516387607, 0.19058861278618827, 0.3852509727833854, 0.523105980301291, 0.5536327992851725, 1.0448328707256667, 0.9733000407722328, 1.4309740945849543, 1.7389794631769562, 2.163384205681447], \n",
    "     [2.6662970013652676, 2.12811501371561, 1.6610258957976272, 1.4766770144117056, 1.21410060856051, 0.8497032077682616, 0.8306729787249585, 0.5704957321594768, 0.47883788118251225, 0.3883812009146793, 0.5551318723044026, 0.5125547907753267, 0.7671701536979616, 0.8338683655357857, 0.9520246678839908, 1.1677644583719071, 1.3093015032892115, 1.6764013688474433, 2.112509365794358, 2.484379962056315], \n",
    "     [2.906961991923785, 2.372460738525383, 2.092423468123073, 1.8447655352254178, 1.490303588513608, 1.5615763427617277, 1.1308450962171124, 1.0619136187569715, 0.9169821633895224, 0.9465447413287712, 0.8154111273672022, 1.0548348978431388, 0.9159094815995455, 1.2682022116790101, 1.3284243680962184, 1.4359565592366688, 1.831228747632959, 2.0627779572794243, 2.45431267111681, 2.821801111608159], \n",
    "     [3.466043829579495, 3.032061235832371, 2.836377368697816, 2.3499596701823378, 2.2417363950962237, 1.8422955014255855, 1.6901491323611662, 1.6476072494703622, 1.498890247621237, 1.418954249597576, 1.5975554581152966, 1.650220684786948, 1.7571927340922968, 1.757649197007955, 2.009009519432451, 2.0074428661672963, 2.587115873432171, 2.5676623833702097, 3.0163238206203804, 3.603405766978889], \n",
    "     [4.544744882812791, 4.18017713955311, 3.7841606016889986, 3.6144046758928936, 3.171678744092114, 2.9468655245845152, 2.6284408601838805, 2.78681414473015, 2.5280026937752185, 2.522264365164813, 2.643558611496271, 2.7630475563824866, 2.89346126466331, 2.990872250267641, 2.8158826002918094, 3.2249109988440625, 3.572812559637341, 3.8272421398585506, 4.167686025052573, 4.533229645556438], \n",
    "     [6.004641862284564, 5.580633462372742, 5.096571402011027, 5.038584799252717, 4.570443925602029, 4.338245088511477, 4.404642353423956, 4.101380435769967, 3.9268443577315373, 4.007159799000537, 3.8368776489119356, 4.043154796233522, 4.129085802670288, 4.356513036182671, 4.473091208261489, 4.528540515840404, 4.932478984530466, 5.268287404764767, 5.554927861605349, 5.969563191545905]]"
   ]
  }
 ],
 "metadata": {
  "colab": {
   "collapsed_sections": [
    "PUAAVHzFH8Sr",
    "wLZObfedJucM",
    "ymMfYRc1NKjx"
   ],
   "provenance": []
  },
  "kernelspec": {
   "display_name": "Python 3 (ipykernel)",
   "language": "python",
   "name": "python3"
  },
  "language_info": {
   "codemirror_mode": {
    "name": "ipython",
    "version": 3
   },
   "file_extension": ".py",
   "mimetype": "text/x-python",
   "name": "python",
   "nbconvert_exporter": "python",
   "pygments_lexer": "ipython3",
   "version": "3.8.10"
  }
 },
 "nbformat": 4,
 "nbformat_minor": 1
}
