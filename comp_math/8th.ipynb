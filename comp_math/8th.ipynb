{
 "cells": [
  {
   "cell_type": "markdown",
   "id": "30575768",
   "metadata": {},
   "source": [
    "# Seventh homework for computational mathematics course"
   ]
  },
  {
   "cell_type": "code",
   "execution_count": 74,
   "id": "f13980ad",
   "metadata": {},
   "outputs": [],
   "source": [
    "import numpy as np\n",
    "import pandas as pd\n",
    "import pylab as plt\n",
    "from scipy.optimize import minimize\n",
    "\n",
    "from sklearn.metrics import mean_squared_error as mse\n",
    "from sklearn.preprocessing import StandardScaler\n",
    "from sklearn.model_selection import ShuffleSplit"
   ]
  },
  {
   "cell_type": "markdown",
   "id": "2b65de09",
   "metadata": {},
   "source": [
    "## Exercise 1"
   ]
  },
  {
   "cell_type": "markdown",
   "id": "0f1afb86",
   "metadata": {},
   "source": [
    "Parabola:\n",
    "$$\n",
    "y = w_2x^2 + w_1x + w_0\n",
    "$$\n",
    "Hyperbola:\n",
    "$$\n",
    "y^2 = w_1x^2 + w_0\n",
    "$$"
   ]
  },
  {
   "cell_type": "code",
   "execution_count": 40,
   "id": "6d3600be",
   "metadata": {},
   "outputs": [],
   "source": [
    "def parabola(y, x, tol=1e-8):\n",
    "    w = [0,0,0]\n",
    "    J0 = np.ones(np.shape(x))\n",
    "    \n",
    "    fun = lambda w: y - w[2]*x**2 - w[1]*x - w[0]*J0\n",
    "    \n",
    "    while(np.sum(fun(w)**2) > tol):\n",
    "        J1 = x.copy().reshape(-1, 1)\n",
    "        J2 = (x**2).reshape(-1, 1)\n",
    "        J = np.concatenate([J0.reshape(-1, 1), J1, J2], axis=1)\n",
    "        w = w + np.linalg.inv(J.T@J)@J.T@fun(w)\n",
    "        print(\"Error is:\",np.sum(fun(w)**2))\n",
    "    \n",
    "    return w\n",
    "    "
   ]
  },
  {
   "cell_type": "code",
   "execution_count": 41,
   "id": "1791cd79",
   "metadata": {},
   "outputs": [
    {
     "name": "stdout",
     "output_type": "stream",
     "text": [
      "1.4088185858772647e-21\n"
     ]
    },
    {
     "data": {
      "text/plain": [
       "array([-5.4,  8.9,  0.7])"
      ]
     },
     "execution_count": 41,
     "metadata": {},
     "output_type": "execute_result"
    }
   ],
   "source": [
    "x = np.linspace(1, 10, 1000)\n",
    "y = 0.7*x**2 + 8.9*x - 5.4\n",
    "w = parabola(y, x)\n",
    "w"
   ]
  },
  {
   "cell_type": "code",
   "execution_count": 68,
   "id": "c456c699",
   "metadata": {},
   "outputs": [],
   "source": [
    "def hyperbola(y, x, tol=1e-8):\n",
    "    w = [1,1,1]\n",
    "    J0 = np.ones(np.shape(x))\n",
    "    \n",
    "    fun = lambda w: y**2 - w[2]*(x - w[1]*J0)**2 - w[0]*J0\n",
    "    \n",
    "    while(np.sum(fun(w)**2) > tol):\n",
    "        J1 = (-2*w[2]*(x - w[1]*J0)).reshape(-1, 1)\n",
    "        J2 = ((x - w[1]*J0)**2).reshape(-1, 1)\n",
    "        J = np.concatenate([J0.reshape(-1, 1), J1, J2], axis=1)\n",
    "        w = w + np.linalg.inv(J.T@J)@J.T@fun(w)\n",
    "        print(\"Error is:\",np.sum(fun(w)**2))\n",
    "    \n",
    "    return w"
   ]
  },
  {
   "cell_type": "code",
   "execution_count": 69,
   "id": "38b5996a",
   "metadata": {},
   "outputs": [
    {
     "name": "stdout",
     "output_type": "stream",
     "text": [
      "Error is: 335435461.44570583\n",
      "Error is: 171725238.28357413\n",
      "Error is: 2.3391991191943e-22\n"
     ]
    },
    {
     "data": {
      "text/plain": [
       "array([2.2, 5.6, 3.4])"
      ]
     },
     "execution_count": 69,
     "metadata": {},
     "output_type": "execute_result"
    }
   ],
   "source": [
    "x = np.linspace(2, 7, 1000)\n",
    "y = np.sqrt(3.4*(x-5.6)**2 + 2.2)\n",
    "w = hyperbola(y, x)\n",
    "w"
   ]
  },
  {
   "cell_type": "markdown",
   "id": "e1e3d443",
   "metadata": {},
   "source": [
    "## Exercise 2"
   ]
  },
  {
   "cell_type": "code",
   "execution_count": 75,
   "id": "1e24bf2c",
   "metadata": {},
   "outputs": [],
   "source": [
    "def newton(z0, f, fprime, MAX_IT=1000, TOL=1e-8):\n",
    "    \"\"\"The Newton-Raphson method applied to f(z).\n",
    "\n",
    "    Returns the root found, starting with an initial guess, z0, or False\n",
    "    if no convergence to tolerance TOL was reached within MAX_IT iterations.\n",
    "\n",
    "    \"\"\"\n",
    "\n",
    "    z = z0\n",
    "    errors = []\n",
    "    for i in range(MAX_IT):\n",
    "        \n",
    "        # Вместо всей этой секции z = optimize.newton(f, z0, fprime)\n",
    "        \n",
    "        dz = f(z)/fprime(z)\n",
    "        errors.append(abs(dz))\n",
    "        if abs(dz) < TOL:\n",
    "            return z, errors\n",
    "        z -= dz\n",
    "    return False"
   ]
  },
  {
   "cell_type": "code",
   "execution_count": 76,
   "id": "4c000249",
   "metadata": {},
   "outputs": [
    {
     "data": {
      "image/png": "[encoded data removed]",
      "text/plain": [
       "<Figure size 432x288 with 1 Axes>"
      ]
     },
     "metadata": {
      "needs_background": "light"
     },
     "output_type": "display_data"
    }
   ],
   "source": [
    "f = lambda z: np.abs(z)**(5/2)\n",
    "fprime = lambda z: 5.2*np.abs(z)**(1/2)*z\n",
    "z, errors = newton(100, f, fprime)\n",
    "plt.plot(errors)\n",
    "plt.yscale('log')\n",
    "plt.show()"
   ]
  },
  {
   "cell_type": "markdown",
   "id": "60633f3c",
   "metadata": {},
   "source": [
    "## Exercise 3"
   ]
  },
  {
   "cell_type": "code",
   "execution_count": 104,
   "id": "2b1b59a0",
   "metadata": {},
   "outputs": [
    {
     "data": {
      "image/png": "[encoded data removed]",
      "text/plain": [
       "<Figure size 432x288 with 1 Axes>"
      ]
     },
     "metadata": {
      "needs_background": "light"
     },
     "output_type": "display_data"
    }
   ],
   "source": [
    "funpr = lambda x: (2*x[1] + 20*np.pi*np.sin(2*np.pi*x[1]))**2 + (2*x[0] + 20*np.pi*np.sin(2*np.pi*x[0]))**2\n",
    "funpr_ = lambda x: 2*x[1] + 20*np.pi*np.sin(2*np.pi*x[1]) + 2*x[0] + 20*np.pi*np.sin(2*np.pi*x[0])\n",
    "\n",
    "d = 1+1e-3\n",
    "\n",
    "x = np.linspace(-5, 5, 20)\n",
    "X = []\n",
    "for p in x:\n",
    "    for l in x:\n",
    "        X.append([p,l])\n",
    "        \n",
    "maxsy = []\n",
    "minsy = []\n",
    "maxsx = []\n",
    "minsx = []\n",
    "for point in X:\n",
    "    x, y = minimize(funpr, point).x\n",
    "    \n",
    "    if(funpr_([d*x, d*y]) > 0):\n",
    "        maxsx.append(x)\n",
    "        maxsy.append(y)\n",
    "    if(funpr_([d*x, d*y]) < 0):\n",
    "        minsx.append(x)\n",
    "        minsy.append(y)\n",
    "        \n",
    "plt.scatter(minsx, minsy, c='b')\n",
    "plt.scatter(maxsx, maxsy, c='r')\n",
    "plt.grid()\n",
    "plt.show()"
   ]
  },
  {
   "cell_type": "code",
   "execution_count": null,
   "id": "5fb3d030",
   "metadata": {},
   "outputs": [],
   "source": []
  },
  {
   "cell_type": "markdown",
   "id": "43dcd291",
   "metadata": {},
   "source": [
    "## Exercise 4"
   ]
  },
  {
   "cell_type": "code",
   "execution_count": 11,
   "id": "e0c403d7",
   "metadata": {},
   "outputs": [],
   "source": [
    "x = np.array([0.1 , 0.10808081, 0.11616162, 0.12424242, 0.13232323,\n",
    "0.14040404, 0.14848485, 0.15656566, 0.16464646, 0.17272727,\n",
    "0.18080808, 0.18888889, 0.1969697 , 0.20505051, 0.21313131,\n",
    "0.22121212, 0.22929293, 0.23737374, 0.24545455, 0.25353535,\n",
    "0.26161616, 0.26969697, 0.27777778, 0.28585859, 0.29393939,\n",
    "0.3020202 , 0.31010101, 0.31818182, 0.32626263, 0.33434343,\n",
    "0.34242424, 0.35050505, 0.35858586, 0.36666667, 0.37474747,\n",
    "0.38282828, 0.39090909, 0.3989899 , 0.40707071, 0.41515152,\n",
    "0.42323232, 0.43131313, 0.43939394, 0.44747475, 0.45555556,\n",
    "0.46363636, 0.47171717, 0.47979798, 0.48787879, 0.4959596 ,\n",
    "0.5040404 , 0.51212121, 0.52020202, 0.52828283, 0.53636364,\n",
    "0.54444444, 0.55252525, 0.56060606, 0.56868687, 0.57676768,\n",
    "0.58484848, 0.59292929, 0.6010101 , 0.60909091, 0.61717172,\n",
    "0.62525253, 0.63333333, 0.64141414, 0.64949495, 0.65757576,\n",
    "0.66565657, 0.67373737, 0.68181818, 0.68989899, 0.6979798 ,\n",
    "0.70606061, 0.71414141, 0.72222222, 0.73030303, 0.73838384,\n",
    "0.74646465, 0.75454545, 0.76262626, 0.77070707, 0.77878788,\n",
    "0.78686869, 0.79494949, 0.8030303 , 0.81111111, 0.81919192,\n",
    "0.82727273, 0.83535354, 0.84343434, 0.85151515, 0.85959596,\n",
    "0.86767677, 0.87575758, 0.88383838, 0.89191919, 0.9 ])\n",
    "y = np.array([-2.24812911, -2.30215341, -2.34463875, -2.38651064, -2.43190693,\n",
    "-2.44713884, -2.49003176, -2.51006098, -2.55831541, -2.57056931,\n",
    "-2.59340317, -2.64026441, -2.65975636, -2.69517476, -2.71046599,\n",
    "-2.74422696, -2.76251291, -2.79505506, -2.79301352, -2.82852207,\n",
    "-2.854651 , -2.88654236, -2.92345136, -2.91943321, -2.94240833,\n",
    "-2.9487781 , -2.97926813, -2.99198343, -3.03396292, -3.03814694,\n",
    "-3.04944858, -3.07196161, -3.09883706, -3.11338258, -3.11898122,\n",
    "-3.14254571, -3.18330957, -3.17453301, -3.20021237, -3.21213539,\n",
    "-3.23715191, -3.24017664, -3.23640684, -3.26147762, -3.28208909,\n",
    "-3.29453546, -3.31160478, -3.33188752, -3.33320305, -3.35238927,\n",
    "-3.34176317, -3.37471911, -3.37543159, -3.40452694, -3.40505804,\n",
    "-3.43358858, -3.43596139, -3.43705603, -3.45264647, -3.46029402,\n",
    "-3.45723979, -3.4720453 , -3.47597438, -3.4795529 , -3.50118552,\n",
    "-3.5031452 , -3.5097196 , -3.51083668, -3.51128397, -3.52708836,\n",
    "-3.5222885 , -3.53317295, -3.50965143, -3.51939652, -3.51659198,\n",
    "-3.50734187, -3.50882329, -3.48129755, -3.49384658, -3.48813707,\n",
    "-3.48345018, -3.46180698, -3.44784696, -3.42372263, -3.39080674,\n",
    "-3.37867045, -3.35281766, -3.32575498, -3.28934964, -3.26814804,\n",
    "-3.23547615, -3.1707224 , -3.12910072, -3.09300443, -3.02523152,\n",
    "-2.9453774 , -2.89454317, -2.83662685, -2.75433056, -2.68946573])"
   ]
  },
  {
   "cell_type": "code",
   "execution_count": 21,
   "id": "387a41f1",
   "metadata": {},
   "outputs": [],
   "source": [
    "def cross_val(cv, X, Y):\n",
    "    errors = []\n",
    "    omegas = []\n",
    "    ress = []\n",
    "    rs = ShuffleSplit(n_splits=cv, random_state=45)\n",
    "    for Xtest_index in rs.split(X):\n",
    "        X_train, X_test = X[Xtest_index[0]], X[Xtest_index[1]]\n",
    "        y_train, y_test = Y[Xtest_index[0]], Y[Xtest_index[1]]\n",
    "\n",
    "        fun = lambda w: mse(y_train, w[0]*X_train**w[1] + w[2]*X_train**w[3], squared=False)\n",
    "        res = minimize(fun, [1,1,1,1])\n",
    "        w = res.x\n",
    "        errors.append(mse(y_test, w[0]*X_test**w[1] + w[2]*X_test**w[3], squared=False))\n",
    "        ress.append(res)\n",
    "        omegas.append(w)\n",
    "    \n",
    "    gd_mse = pd.DataFrame({'mse': errors, 'omega': omegas, 'res':ress})\n",
    "    gd_mse = gd_mse.sort_values(by=['mse'], ascending=True, ignore_index=True)\n",
    "    return gd_mse  "
   ]
  },
  {
   "cell_type": "code",
   "execution_count": 22,
   "id": "c5f8c9d8",
   "metadata": {},
   "outputs": [
    {
     "data": {
      "text/html": [
       "<div>\n",
       "<style scoped>\n",
       "    .dataframe tbody tr th:only-of-type {\n",
       "        vertical-align: middle;\n",
       "    }\n",
       "\n",
       "    .dataframe tbody tr th {\n",
       "        vertical-align: top;\n",
       "    }\n",
       "\n",
       "    .dataframe thead th {\n",
       "        text-align: right;\n",
       "    }\n",
       "</style>\n",
       "<table border=\"1\" class=\"dataframe\">\n",
       "  <thead>\n",
       "    <tr style=\"text-align: right;\">\n",
       "      <th></th>\n",
       "      <th>mse</th>\n",
       "      <th>omega</th>\n",
       "      <th>res</th>\n",
       "    </tr>\n",
       "  </thead>\n",
       "  <tbody>\n",
       "    <tr>\n",
       "      <th>0</th>\n",
       "      <td>0.138978</td>\n",
       "      <td>[-1.765741324690944, 0.15152100011539588, -1.7...</td>\n",
       "      <td>{'fun': 0.21888556054876956, 'jac': [-1.240521...</td>\n",
       "    </tr>\n",
       "    <tr>\n",
       "      <th>1</th>\n",
       "      <td>0.167627</td>\n",
       "      <td>[-1.7607976850540648, 0.1460265021078532, -1.7...</td>\n",
       "      <td>{'fun': 0.2170802010560148, 'jac': [3.81842255...</td>\n",
       "    </tr>\n",
       "    <tr>\n",
       "      <th>2</th>\n",
       "      <td>0.251260</td>\n",
       "      <td>[-1.7800579134509942, 0.15839700193883235, -1....</td>\n",
       "      <td>{'fun': 0.20726752236063342, 'jac': [4.8335641...</td>\n",
       "    </tr>\n",
       "    <tr>\n",
       "      <th>3</th>\n",
       "      <td>0.258460</td>\n",
       "      <td>[-1.7814808189811981, 0.15871243176868938, -1....</td>\n",
       "      <td>{'fun': 0.20632204127140177, 'jac': [-3.434717...</td>\n",
       "    </tr>\n",
       "    <tr>\n",
       "      <th>4</th>\n",
       "      <td>0.299749</td>\n",
       "      <td>[-1.7744633556207392, 0.1512372617188015, -1.7...</td>\n",
       "      <td>{'fun': 0.2002336024438632, 'jac': [-8.0093741...</td>\n",
       "    </tr>\n",
       "  </tbody>\n",
       "</table>\n",
       "</div>"
      ],
      "text/plain": [
       "        mse                                              omega  \\\n",
       "0  0.138978  [-1.765741324690944, 0.15152100011539588, -1.7...   \n",
       "1  0.167627  [-1.7607976850540648, 0.1460265021078532, -1.7...   \n",
       "2  0.251260  [-1.7800579134509942, 0.15839700193883235, -1....   \n",
       "3  0.258460  [-1.7814808189811981, 0.15871243176868938, -1....   \n",
       "4  0.299749  [-1.7744633556207392, 0.1512372617188015, -1.7...   \n",
       "\n",
       "                                                 res  \n",
       "0  {'fun': 0.21888556054876956, 'jac': [-1.240521...  \n",
       "1  {'fun': 0.2170802010560148, 'jac': [3.81842255...  \n",
       "2  {'fun': 0.20726752236063342, 'jac': [4.8335641...  \n",
       "3  {'fun': 0.20632204127140177, 'jac': [-3.434717...  \n",
       "4  {'fun': 0.2002336024438632, 'jac': [-8.0093741...  "
      ]
     },
     "execution_count": 22,
     "metadata": {},
     "output_type": "execute_result"
    }
   ],
   "source": [
    "df = cross_val(5, x, y)\n",
    "df"
   ]
  },
  {
   "cell_type": "code",
   "execution_count": null,
   "id": "64bcc00e",
   "metadata": {},
   "outputs": [],
   "source": []
  }
 ],
 "metadata": {
  "kernelspec": {
   "display_name": "Python 3 (ipykernel)",
   "language": "python",
   "name": "python3"
  },
  "language_info": {
   "codemirror_mode": {
    "name": "ipython",
    "version": 3
   },
   "file_extension": ".py",
   "mimetype": "text/x-python",
   "name": "python",
   "nbconvert_exporter": "python",
   "pygments_lexer": "ipython3",
   "version": "3.8.10"
  }
 },
 "nbformat": 4,
 "nbformat_minor": 5
}
